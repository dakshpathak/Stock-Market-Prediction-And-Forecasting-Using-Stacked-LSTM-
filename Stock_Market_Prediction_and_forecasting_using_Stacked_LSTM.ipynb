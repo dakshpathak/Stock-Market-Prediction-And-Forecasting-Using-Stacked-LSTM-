{
 "cells": [
  {
   "cell_type": "markdown",
   "id": "57119ba4",
   "metadata": {},
   "source": [
    "# LGMVIP - Data Science Intern\n",
    "# Task - 2\n",
    "# Stock Market Prediction And Forecasting Using Stacked LSTM\n",
    "# Name - Daksh Pathak"
   ]
  },
  {
   "cell_type": "markdown",
   "id": "e343f72b",
   "metadata": {
    "id": "e343f72b"
   },
   "source": [
    "# Importing the required libraries"
   ]
  },
  {
   "cell_type": "code",
   "execution_count": null,
   "id": "e369092f",
   "metadata": {
    "id": "e369092f"
   },
   "outputs": [],
   "source": [
    "import pandas as pd\n",
    "from matplotlib import pyplot as plt\n",
    "import numpy as np\n",
    "import seaborn as sns"
   ]
  },
  {
   "cell_type": "markdown",
   "id": "2882d1eb",
   "metadata": {
    "id": "2882d1eb"
   },
   "source": [
    "# Loading the Dataset"
   ]
  },
  {
   "cell_type": "code",
   "execution_count": null,
   "id": "b950040e",
   "metadata": {
    "colab": {
     "base_uri": "https://localhost:8080/",
     "height": 206
    },
    "id": "b950040e",
    "outputId": "4112e7c2-038a-4d8a-b63b-7ebe053999bb",
    "scrolled": true
   },
   "outputs": [
    {
     "data": {
      "text/html": [
       "\n",
       "  <div id=\"df-79e20833-44d2-4a44-ab26-eef0075d0112\">\n",
       "    <div class=\"colab-df-container\">\n",
       "      <div>\n",
       "<style scoped>\n",
       "    .dataframe tbody tr th:only-of-type {\n",
       "        vertical-align: middle;\n",
       "    }\n",
       "\n",
       "    .dataframe tbody tr th {\n",
       "        vertical-align: top;\n",
       "    }\n",
       "\n",
       "    .dataframe thead th {\n",
       "        text-align: right;\n",
       "    }\n",
       "</style>\n",
       "<table border=\"1\" class=\"dataframe\">\n",
       "  <thead>\n",
       "    <tr style=\"text-align: right;\">\n",
       "      <th></th>\n",
       "      <th>Date</th>\n",
       "      <th>Open</th>\n",
       "      <th>High</th>\n",
       "      <th>Low</th>\n",
       "      <th>Last</th>\n",
       "      <th>Close</th>\n",
       "      <th>Total Trade Quantity</th>\n",
       "      <th>Turnover (Lacs)</th>\n",
       "    </tr>\n",
       "  </thead>\n",
       "  <tbody>\n",
       "    <tr>\n",
       "      <th>0</th>\n",
       "      <td>2018-09-28</td>\n",
       "      <td>234.05</td>\n",
       "      <td>235.95</td>\n",
       "      <td>230.20</td>\n",
       "      <td>233.50</td>\n",
       "      <td>233.75</td>\n",
       "      <td>3069914</td>\n",
       "      <td>7162.35</td>\n",
       "    </tr>\n",
       "    <tr>\n",
       "      <th>1</th>\n",
       "      <td>2018-09-27</td>\n",
       "      <td>234.55</td>\n",
       "      <td>236.80</td>\n",
       "      <td>231.10</td>\n",
       "      <td>233.80</td>\n",
       "      <td>233.25</td>\n",
       "      <td>5082859</td>\n",
       "      <td>11859.95</td>\n",
       "    </tr>\n",
       "    <tr>\n",
       "      <th>2</th>\n",
       "      <td>2018-09-26</td>\n",
       "      <td>240.00</td>\n",
       "      <td>240.00</td>\n",
       "      <td>232.50</td>\n",
       "      <td>235.00</td>\n",
       "      <td>234.25</td>\n",
       "      <td>2240909</td>\n",
       "      <td>5248.60</td>\n",
       "    </tr>\n",
       "    <tr>\n",
       "      <th>3</th>\n",
       "      <td>2018-09-25</td>\n",
       "      <td>233.30</td>\n",
       "      <td>236.75</td>\n",
       "      <td>232.00</td>\n",
       "      <td>236.25</td>\n",
       "      <td>236.10</td>\n",
       "      <td>2349368</td>\n",
       "      <td>5503.90</td>\n",
       "    </tr>\n",
       "    <tr>\n",
       "      <th>4</th>\n",
       "      <td>2018-09-24</td>\n",
       "      <td>233.55</td>\n",
       "      <td>239.20</td>\n",
       "      <td>230.75</td>\n",
       "      <td>234.00</td>\n",
       "      <td>233.30</td>\n",
       "      <td>3423509</td>\n",
       "      <td>7999.55</td>\n",
       "    </tr>\n",
       "  </tbody>\n",
       "</table>\n",
       "</div>\n",
       "      <button class=\"colab-df-convert\" onclick=\"convertToInteractive('df-79e20833-44d2-4a44-ab26-eef0075d0112')\"\n",
       "              title=\"Convert this dataframe to an interactive table.\"\n",
       "              style=\"display:none;\">\n",
       "        \n",
       "  <svg xmlns=\"http://www.w3.org/2000/svg\" height=\"24px\"viewBox=\"0 0 24 24\"\n",
       "       width=\"24px\">\n",
       "    <path d=\"M0 0h24v24H0V0z\" fill=\"none\"/>\n",
       "    <path d=\"M18.56 5.44l.94 2.06.94-2.06 2.06-.94-2.06-.94-.94-2.06-.94 2.06-2.06.94zm-11 1L8.5 8.5l.94-2.06 2.06-.94-2.06-.94L8.5 2.5l-.94 2.06-2.06.94zm10 10l.94 2.06.94-2.06 2.06-.94-2.06-.94-.94-2.06-.94 2.06-2.06.94z\"/><path d=\"M17.41 7.96l-1.37-1.37c-.4-.4-.92-.59-1.43-.59-.52 0-1.04.2-1.43.59L10.3 9.45l-7.72 7.72c-.78.78-.78 2.05 0 2.83L4 21.41c.39.39.9.59 1.41.59.51 0 1.02-.2 1.41-.59l7.78-7.78 2.81-2.81c.8-.78.8-2.07 0-2.86zM5.41 20L4 18.59l7.72-7.72 1.47 1.35L5.41 20z\"/>\n",
       "  </svg>\n",
       "      </button>\n",
       "      \n",
       "  <style>\n",
       "    .colab-df-container {\n",
       "      display:flex;\n",
       "      flex-wrap:wrap;\n",
       "      gap: 12px;\n",
       "    }\n",
       "\n",
       "    .colab-df-convert {\n",
       "      background-color: #E8F0FE;\n",
       "      border: none;\n",
       "      border-radius: 50%;\n",
       "      cursor: pointer;\n",
       "      display: none;\n",
       "      fill: #1967D2;\n",
       "      height: 32px;\n",
       "      padding: 0 0 0 0;\n",
       "      width: 32px;\n",
       "    }\n",
       "\n",
       "    .colab-df-convert:hover {\n",
       "      background-color: #E2EBFA;\n",
       "      box-shadow: 0px 1px 2px rgba(60, 64, 67, 0.3), 0px 1px 3px 1px rgba(60, 64, 67, 0.15);\n",
       "      fill: #174EA6;\n",
       "    }\n",
       "\n",
       "    [theme=dark] .colab-df-convert {\n",
       "      background-color: #3B4455;\n",
       "      fill: #D2E3FC;\n",
       "    }\n",
       "\n",
       "    [theme=dark] .colab-df-convert:hover {\n",
       "      background-color: #434B5C;\n",
       "      box-shadow: 0px 1px 3px 1px rgba(0, 0, 0, 0.15);\n",
       "      filter: drop-shadow(0px 1px 2px rgba(0, 0, 0, 0.3));\n",
       "      fill: #FFFFFF;\n",
       "    }\n",
       "  </style>\n",
       "\n",
       "      <script>\n",
       "        const buttonEl =\n",
       "          document.querySelector('#df-79e20833-44d2-4a44-ab26-eef0075d0112 button.colab-df-convert');\n",
       "        buttonEl.style.display =\n",
       "          google.colab.kernel.accessAllowed ? 'block' : 'none';\n",
       "\n",
       "        async function convertToInteractive(key) {\n",
       "          const element = document.querySelector('#df-79e20833-44d2-4a44-ab26-eef0075d0112');\n",
       "          const dataTable =\n",
       "            await google.colab.kernel.invokeFunction('convertToInteractive',\n",
       "                                                     [key], {});\n",
       "          if (!dataTable) return;\n",
       "\n",
       "          const docLinkHtml = 'Like what you see? Visit the ' +\n",
       "            '<a target=\"_blank\" href=https://colab.research.google.com/notebooks/data_table.ipynb>data table notebook</a>'\n",
       "            + ' to learn more about interactive tables.';\n",
       "          element.innerHTML = '';\n",
       "          dataTable['output_type'] = 'display_data';\n",
       "          await google.colab.output.renderOutput(dataTable, element);\n",
       "          const docLink = document.createElement('div');\n",
       "          docLink.innerHTML = docLinkHtml;\n",
       "          element.appendChild(docLink);\n",
       "        }\n",
       "      </script>\n",
       "    </div>\n",
       "  </div>\n",
       "  "
      ],
      "text/plain": [
       "         Date    Open    High  ...   Close  Total Trade Quantity  Turnover (Lacs)\n",
       "0  2018-09-28  234.05  235.95  ...  233.75               3069914          7162.35\n",
       "1  2018-09-27  234.55  236.80  ...  233.25               5082859         11859.95\n",
       "2  2018-09-26  240.00  240.00  ...  234.25               2240909          5248.60\n",
       "3  2018-09-25  233.30  236.75  ...  236.10               2349368          5503.90\n",
       "4  2018-09-24  233.55  239.20  ...  233.30               3423509          7999.55\n",
       "\n",
       "[5 rows x 8 columns]"
      ]
     },
     "execution_count": 6,
     "metadata": {},
     "output_type": "execute_result"
    }
   ],
   "source": [
    "df = pd.read_csv('https://raw.githubusercontent.com/mwitiderrick/stockprice/master/NSE-TATAGLOBAL.csv')\n",
    "df.head()"
   ]
  },
  {
   "cell_type": "markdown",
   "id": "U3JH-uzFux_a",
   "metadata": {
    "id": "U3JH-uzFux_a"
   },
   "source": []
  },
  {
   "cell_type": "code",
   "execution_count": null,
   "id": "509eb2aa",
   "metadata": {
    "colab": {
     "base_uri": "https://localhost:8080/",
     "height": 211
    },
    "id": "509eb2aa",
    "outputId": "346d025e-a2b2-4e12-8d5c-c583b7ebdefe"
   },
   "outputs": [
    {
     "data": {
      "image/png": "[encoded data removed]",
      "text/plain": [
       "<PIL.JpegImagePlugin.JpegImageFile image mode=RGB size=259x194 at 0x7EFCDB68A710>"
      ]
     },
     "execution_count": 7,
     "metadata": {},
     "output_type": "execute_result"
    }
   ],
   "source": [
    "from PIL import Image\n",
    "stocks_image = Image.open('stocks.jpg')\n",
    "stocks_image"
   ]
  },
  {
   "cell_type": "markdown",
   "id": "AiFfQQf0_tT2",
   "metadata": {
    "id": "AiFfQQf0_tT2"
   },
   "source": []
  },
  {
   "cell_type": "markdown",
   "id": "lB9bWlCT_j9Q",
   "metadata": {
    "id": "lB9bWlCT_j9Q"
   },
   "source": [
    "# New Section"
   ]
  },
  {
   "cell_type": "code",
   "execution_count": null,
   "id": "ae54a1d9",
   "metadata": {
    "colab": {
     "base_uri": "https://localhost:8080/",
     "height": 206
    },
    "id": "ae54a1d9",
    "outputId": "afda4ef4-910f-45fe-f5ac-d94ddc20163f"
   },
   "outputs": [
    {
     "data": {
      "text/html": [
       "\n",
       "  <div id=\"df-d3ec103a-3b88-4f62-85d7-7c63fd476ebf\">\n",
       "    <div class=\"colab-df-container\">\n",
       "      <div>\n",
       "<style scoped>\n",
       "    .dataframe tbody tr th:only-of-type {\n",
       "        vertical-align: middle;\n",
       "    }\n",
       "\n",
       "    .dataframe tbody tr th {\n",
       "        vertical-align: top;\n",
       "    }\n",
       "\n",
       "    .dataframe thead th {\n",
       "        text-align: right;\n",
       "    }\n",
       "</style>\n",
       "<table border=\"1\" class=\"dataframe\">\n",
       "  <thead>\n",
       "    <tr style=\"text-align: right;\">\n",
       "      <th></th>\n",
       "      <th>Date</th>\n",
       "      <th>Open</th>\n",
       "      <th>High</th>\n",
       "      <th>Low</th>\n",
       "      <th>Last</th>\n",
       "      <th>Close</th>\n",
       "      <th>Total Trade Quantity</th>\n",
       "      <th>Turnover (Lacs)</th>\n",
       "    </tr>\n",
       "  </thead>\n",
       "  <tbody>\n",
       "    <tr>\n",
       "      <th>2030</th>\n",
       "      <td>2010-07-27</td>\n",
       "      <td>117.6</td>\n",
       "      <td>119.50</td>\n",
       "      <td>112.00</td>\n",
       "      <td>118.80</td>\n",
       "      <td>118.65</td>\n",
       "      <td>586100</td>\n",
       "      <td>694.98</td>\n",
       "    </tr>\n",
       "    <tr>\n",
       "      <th>2031</th>\n",
       "      <td>2010-07-26</td>\n",
       "      <td>120.1</td>\n",
       "      <td>121.00</td>\n",
       "      <td>117.10</td>\n",
       "      <td>117.10</td>\n",
       "      <td>117.60</td>\n",
       "      <td>658440</td>\n",
       "      <td>780.01</td>\n",
       "    </tr>\n",
       "    <tr>\n",
       "      <th>2032</th>\n",
       "      <td>2010-07-23</td>\n",
       "      <td>121.8</td>\n",
       "      <td>121.95</td>\n",
       "      <td>120.25</td>\n",
       "      <td>120.35</td>\n",
       "      <td>120.65</td>\n",
       "      <td>281312</td>\n",
       "      <td>340.31</td>\n",
       "    </tr>\n",
       "    <tr>\n",
       "      <th>2033</th>\n",
       "      <td>2010-07-22</td>\n",
       "      <td>120.3</td>\n",
       "      <td>122.00</td>\n",
       "      <td>120.25</td>\n",
       "      <td>120.75</td>\n",
       "      <td>120.90</td>\n",
       "      <td>293312</td>\n",
       "      <td>355.17</td>\n",
       "    </tr>\n",
       "    <tr>\n",
       "      <th>2034</th>\n",
       "      <td>2010-07-21</td>\n",
       "      <td>122.1</td>\n",
       "      <td>123.00</td>\n",
       "      <td>121.05</td>\n",
       "      <td>121.10</td>\n",
       "      <td>121.55</td>\n",
       "      <td>658666</td>\n",
       "      <td>803.56</td>\n",
       "    </tr>\n",
       "  </tbody>\n",
       "</table>\n",
       "</div>\n",
       "      <button class=\"colab-df-convert\" onclick=\"convertToInteractive('df-d3ec103a-3b88-4f62-85d7-7c63fd476ebf')\"\n",
       "              title=\"Convert this dataframe to an interactive table.\"\n",
       "              style=\"display:none;\">\n",
       "        \n",
       "  <svg xmlns=\"http://www.w3.org/2000/svg\" height=\"24px\"viewBox=\"0 0 24 24\"\n",
       "       width=\"24px\">\n",
       "    <path d=\"M0 0h24v24H0V0z\" fill=\"none\"/>\n",
       "    <path d=\"M18.56 5.44l.94 2.06.94-2.06 2.06-.94-2.06-.94-.94-2.06-.94 2.06-2.06.94zm-11 1L8.5 8.5l.94-2.06 2.06-.94-2.06-.94L8.5 2.5l-.94 2.06-2.06.94zm10 10l.94 2.06.94-2.06 2.06-.94-2.06-.94-.94-2.06-.94 2.06-2.06.94z\"/><path d=\"M17.41 7.96l-1.37-1.37c-.4-.4-.92-.59-1.43-.59-.52 0-1.04.2-1.43.59L10.3 9.45l-7.72 7.72c-.78.78-.78 2.05 0 2.83L4 21.41c.39.39.9.59 1.41.59.51 0 1.02-.2 1.41-.59l7.78-7.78 2.81-2.81c.8-.78.8-2.07 0-2.86zM5.41 20L4 18.59l7.72-7.72 1.47 1.35L5.41 20z\"/>\n",
       "  </svg>\n",
       "      </button>\n",
       "      \n",
       "  <style>\n",
       "    .colab-df-container {\n",
       "      display:flex;\n",
       "      flex-wrap:wrap;\n",
       "      gap: 12px;\n",
       "    }\n",
       "\n",
       "    .colab-df-convert {\n",
       "      background-color: #E8F0FE;\n",
       "      border: none;\n",
       "      border-radius: 50%;\n",
       "      cursor: pointer;\n",
       "      display: none;\n",
       "      fill: #1967D2;\n",
       "      height: 32px;\n",
       "      padding: 0 0 0 0;\n",
       "      width: 32px;\n",
       "    }\n",
       "\n",
       "    .colab-df-convert:hover {\n",
       "      background-color: #E2EBFA;\n",
       "      box-shadow: 0px 1px 2px rgba(60, 64, 67, 0.3), 0px 1px 3px 1px rgba(60, 64, 67, 0.15);\n",
       "      fill: #174EA6;\n",
       "    }\n",
       "\n",
       "    [theme=dark] .colab-df-convert {\n",
       "      background-color: #3B4455;\n",
       "      fill: #D2E3FC;\n",
       "    }\n",
       "\n",
       "    [theme=dark] .colab-df-convert:hover {\n",
       "      background-color: #434B5C;\n",
       "      box-shadow: 0px 1px 3px 1px rgba(0, 0, 0, 0.15);\n",
       "      filter: drop-shadow(0px 1px 2px rgba(0, 0, 0, 0.3));\n",
       "      fill: #FFFFFF;\n",
       "    }\n",
       "  </style>\n",
       "\n",
       "      <script>\n",
       "        const buttonEl =\n",
       "          document.querySelector('#df-d3ec103a-3b88-4f62-85d7-7c63fd476ebf button.colab-df-convert');\n",
       "        buttonEl.style.display =\n",
       "          google.colab.kernel.accessAllowed ? 'block' : 'none';\n",
       "\n",
       "        async function convertToInteractive(key) {\n",
       "          const element = document.querySelector('#df-d3ec103a-3b88-4f62-85d7-7c63fd476ebf');\n",
       "          const dataTable =\n",
       "            await google.colab.kernel.invokeFunction('convertToInteractive',\n",
       "                                                     [key], {});\n",
       "          if (!dataTable) return;\n",
       "\n",
       "          const docLinkHtml = 'Like what you see? Visit the ' +\n",
       "            '<a target=\"_blank\" href=https://colab.research.google.com/notebooks/data_table.ipynb>data table notebook</a>'\n",
       "            + ' to learn more about interactive tables.';\n",
       "          element.innerHTML = '';\n",
       "          dataTable['output_type'] = 'display_data';\n",
       "          await google.colab.output.renderOutput(dataTable, element);\n",
       "          const docLink = document.createElement('div');\n",
       "          docLink.innerHTML = docLinkHtml;\n",
       "          element.appendChild(docLink);\n",
       "        }\n",
       "      </script>\n",
       "    </div>\n",
       "  </div>\n",
       "  "
      ],
      "text/plain": [
       "            Date   Open    High  ...   Close  Total Trade Quantity  Turnover (Lacs)\n",
       "2030  2010-07-27  117.6  119.50  ...  118.65                586100           694.98\n",
       "2031  2010-07-26  120.1  121.00  ...  117.60                658440           780.01\n",
       "2032  2010-07-23  121.8  121.95  ...  120.65                281312           340.31\n",
       "2033  2010-07-22  120.3  122.00  ...  120.90                293312           355.17\n",
       "2034  2010-07-21  122.1  123.00  ...  121.55                658666           803.56\n",
       "\n",
       "[5 rows x 8 columns]"
      ]
     },
     "execution_count": 8,
     "metadata": {},
     "output_type": "execute_result"
    }
   ],
   "source": [
    "df.tail()"
   ]
  },
  {
   "cell_type": "markdown",
   "id": "a0c1d6e5",
   "metadata": {},
   "source": [
    "# Displaying Rows and Columns"
   ]
  },
  {
   "cell_type": "code",
   "execution_count": null,
   "id": "4e609605",
   "metadata": {
    "colab": {
     "base_uri": "https://localhost:8080/"
    },
    "id": "4e609605",
    "outputId": "99c55e5b-8a31-4529-a361-5f74606b100a"
   },
   "outputs": [
    {
     "data": {
      "text/plain": [
       "(2035, 8)"
      ]
     },
     "execution_count": 9,
     "metadata": {},
     "output_type": "execute_result"
    }
   ],
   "source": [
    "df.shape"
   ]
  },
  {
   "cell_type": "markdown",
   "id": "f2280258",
   "metadata": {
    "id": "f2280258"
   },
   "source": [
    "# Displaying Stats of data"
   ]
  },
  {
   "cell_type": "code",
   "execution_count": null,
   "id": "6f303938",
   "metadata": {
    "colab": {
     "base_uri": "https://localhost:8080/",
     "height": 300
    },
    "id": "6f303938",
    "outputId": "ba62c7e1-92fc-430a-da95-bf613699c5bf"
   },
   "outputs": [
    {
     "data": {
      "text/html": [
       "\n",
       "  <div id=\"df-f265e937-bdb0-4ead-95ec-cbb87050dd45\">\n",
       "    <div class=\"colab-df-container\">\n",
       "      <div>\n",
       "<style scoped>\n",
       "    .dataframe tbody tr th:only-of-type {\n",
       "        vertical-align: middle;\n",
       "    }\n",
       "\n",
       "    .dataframe tbody tr th {\n",
       "        vertical-align: top;\n",
       "    }\n",
       "\n",
       "    .dataframe thead th {\n",
       "        text-align: right;\n",
       "    }\n",
       "</style>\n",
       "<table border=\"1\" class=\"dataframe\">\n",
       "  <thead>\n",
       "    <tr style=\"text-align: right;\">\n",
       "      <th></th>\n",
       "      <th>Open</th>\n",
       "      <th>High</th>\n",
       "      <th>Low</th>\n",
       "      <th>Last</th>\n",
       "      <th>Close</th>\n",
       "      <th>Total Trade Quantity</th>\n",
       "      <th>Turnover (Lacs)</th>\n",
       "    </tr>\n",
       "  </thead>\n",
       "  <tbody>\n",
       "    <tr>\n",
       "      <th>count</th>\n",
       "      <td>2035.000000</td>\n",
       "      <td>2035.000000</td>\n",
       "      <td>2035.000000</td>\n",
       "      <td>2035.000000</td>\n",
       "      <td>2035.00000</td>\n",
       "      <td>2.035000e+03</td>\n",
       "      <td>2035.000000</td>\n",
       "    </tr>\n",
       "    <tr>\n",
       "      <th>mean</th>\n",
       "      <td>149.713735</td>\n",
       "      <td>151.992826</td>\n",
       "      <td>147.293931</td>\n",
       "      <td>149.474251</td>\n",
       "      <td>149.45027</td>\n",
       "      <td>2.335681e+06</td>\n",
       "      <td>3899.980565</td>\n",
       "    </tr>\n",
       "    <tr>\n",
       "      <th>std</th>\n",
       "      <td>48.664509</td>\n",
       "      <td>49.413109</td>\n",
       "      <td>47.931958</td>\n",
       "      <td>48.732570</td>\n",
       "      <td>48.71204</td>\n",
       "      <td>2.091778e+06</td>\n",
       "      <td>4570.767877</td>\n",
       "    </tr>\n",
       "    <tr>\n",
       "      <th>min</th>\n",
       "      <td>81.100000</td>\n",
       "      <td>82.800000</td>\n",
       "      <td>80.000000</td>\n",
       "      <td>81.000000</td>\n",
       "      <td>80.95000</td>\n",
       "      <td>3.961000e+04</td>\n",
       "      <td>37.040000</td>\n",
       "    </tr>\n",
       "    <tr>\n",
       "      <th>25%</th>\n",
       "      <td>120.025000</td>\n",
       "      <td>122.100000</td>\n",
       "      <td>118.300000</td>\n",
       "      <td>120.075000</td>\n",
       "      <td>120.05000</td>\n",
       "      <td>1.146444e+06</td>\n",
       "      <td>1427.460000</td>\n",
       "    </tr>\n",
       "    <tr>\n",
       "      <th>50%</th>\n",
       "      <td>141.500000</td>\n",
       "      <td>143.400000</td>\n",
       "      <td>139.600000</td>\n",
       "      <td>141.100000</td>\n",
       "      <td>141.25000</td>\n",
       "      <td>1.783456e+06</td>\n",
       "      <td>2512.030000</td>\n",
       "    </tr>\n",
       "    <tr>\n",
       "      <th>75%</th>\n",
       "      <td>157.175000</td>\n",
       "      <td>159.400000</td>\n",
       "      <td>155.150000</td>\n",
       "      <td>156.925000</td>\n",
       "      <td>156.90000</td>\n",
       "      <td>2.813594e+06</td>\n",
       "      <td>4539.015000</td>\n",
       "    </tr>\n",
       "    <tr>\n",
       "      <th>max</th>\n",
       "      <td>327.700000</td>\n",
       "      <td>328.750000</td>\n",
       "      <td>321.650000</td>\n",
       "      <td>325.950000</td>\n",
       "      <td>325.75000</td>\n",
       "      <td>2.919102e+07</td>\n",
       "      <td>55755.080000</td>\n",
       "    </tr>\n",
       "  </tbody>\n",
       "</table>\n",
       "</div>\n",
       "      <button class=\"colab-df-convert\" onclick=\"convertToInteractive('df-f265e937-bdb0-4ead-95ec-cbb87050dd45')\"\n",
       "              title=\"Convert this dataframe to an interactive table.\"\n",
       "              style=\"display:none;\">\n",
       "        \n",
       "  <svg xmlns=\"http://www.w3.org/2000/svg\" height=\"24px\"viewBox=\"0 0 24 24\"\n",
       "       width=\"24px\">\n",
       "    <path d=\"M0 0h24v24H0V0z\" fill=\"none\"/>\n",
       "    <path d=\"M18.56 5.44l.94 2.06.94-2.06 2.06-.94-2.06-.94-.94-2.06-.94 2.06-2.06.94zm-11 1L8.5 8.5l.94-2.06 2.06-.94-2.06-.94L8.5 2.5l-.94 2.06-2.06.94zm10 10l.94 2.06.94-2.06 2.06-.94-2.06-.94-.94-2.06-.94 2.06-2.06.94z\"/><path d=\"M17.41 7.96l-1.37-1.37c-.4-.4-.92-.59-1.43-.59-.52 0-1.04.2-1.43.59L10.3 9.45l-7.72 7.72c-.78.78-.78 2.05 0 2.83L4 21.41c.39.39.9.59 1.41.59.51 0 1.02-.2 1.41-.59l7.78-7.78 2.81-2.81c.8-.78.8-2.07 0-2.86zM5.41 20L4 18.59l7.72-7.72 1.47 1.35L5.41 20z\"/>\n",
       "  </svg>\n",
       "      </button>\n",
       "      \n",
       "  <style>\n",
       "    .colab-df-container {\n",
       "      display:flex;\n",
       "      flex-wrap:wrap;\n",
       "      gap: 12px;\n",
       "    }\n",
       "\n",
       "    .colab-df-convert {\n",
       "      background-color: #E8F0FE;\n",
       "      border: none;\n",
       "      border-radius: 50%;\n",
       "      cursor: pointer;\n",
       "      display: none;\n",
       "      fill: #1967D2;\n",
       "      height: 32px;\n",
       "      padding: 0 0 0 0;\n",
       "      width: 32px;\n",
       "    }\n",
       "\n",
       "    .colab-df-convert:hover {\n",
       "      background-color: #E2EBFA;\n",
       "      box-shadow: 0px 1px 2px rgba(60, 64, 67, 0.3), 0px 1px 3px 1px rgba(60, 64, 67, 0.15);\n",
       "      fill: #174EA6;\n",
       "    }\n",
       "\n",
       "    [theme=dark] .colab-df-convert {\n",
       "      background-color: #3B4455;\n",
       "      fill: #D2E3FC;\n",
       "    }\n",
       "\n",
       "    [theme=dark] .colab-df-convert:hover {\n",
       "      background-color: #434B5C;\n",
       "      box-shadow: 0px 1px 3px 1px rgba(0, 0, 0, 0.15);\n",
       "      filter: drop-shadow(0px 1px 2px rgba(0, 0, 0, 0.3));\n",
       "      fill: #FFFFFF;\n",
       "    }\n",
       "  </style>\n",
       "\n",
       "      <script>\n",
       "        const buttonEl =\n",
       "          document.querySelector('#df-f265e937-bdb0-4ead-95ec-cbb87050dd45 button.colab-df-convert');\n",
       "        buttonEl.style.display =\n",
       "          google.colab.kernel.accessAllowed ? 'block' : 'none';\n",
       "\n",
       "        async function convertToInteractive(key) {\n",
       "          const element = document.querySelector('#df-f265e937-bdb0-4ead-95ec-cbb87050dd45');\n",
       "          const dataTable =\n",
       "            await google.colab.kernel.invokeFunction('convertToInteractive',\n",
       "                                                     [key], {});\n",
       "          if (!dataTable) return;\n",
       "\n",
       "          const docLinkHtml = 'Like what you see? Visit the ' +\n",
       "            '<a target=\"_blank\" href=https://colab.research.google.com/notebooks/data_table.ipynb>data table notebook</a>'\n",
       "            + ' to learn more about interactive tables.';\n",
       "          element.innerHTML = '';\n",
       "          dataTable['output_type'] = 'display_data';\n",
       "          await google.colab.output.renderOutput(dataTable, element);\n",
       "          const docLink = document.createElement('div');\n",
       "          docLink.innerHTML = docLinkHtml;\n",
       "          element.appendChild(docLink);\n",
       "        }\n",
       "      </script>\n",
       "    </div>\n",
       "  </div>\n",
       "  "
      ],
      "text/plain": [
       "              Open         High  ...  Total Trade Quantity  Turnover (Lacs)\n",
       "count  2035.000000  2035.000000  ...          2.035000e+03      2035.000000\n",
       "mean    149.713735   151.992826  ...          2.335681e+06      3899.980565\n",
       "std      48.664509    49.413109  ...          2.091778e+06      4570.767877\n",
       "min      81.100000    82.800000  ...          3.961000e+04        37.040000\n",
       "25%     120.025000   122.100000  ...          1.146444e+06      1427.460000\n",
       "50%     141.500000   143.400000  ...          1.783456e+06      2512.030000\n",
       "75%     157.175000   159.400000  ...          2.813594e+06      4539.015000\n",
       "max     327.700000   328.750000  ...          2.919102e+07     55755.080000\n",
       "\n",
       "[8 rows x 7 columns]"
      ]
     },
     "execution_count": 10,
     "metadata": {},
     "output_type": "execute_result"
    }
   ],
   "source": [
    "df.describe()"
   ]
  },
  {
   "cell_type": "markdown",
   "id": "4e681094",
   "metadata": {
    "id": "4e681094"
   },
   "source": [
    "# Displaying info about datatypes"
   ]
  },
  {
   "cell_type": "code",
   "execution_count": null,
   "id": "5c7f7ff5",
   "metadata": {
    "colab": {
     "base_uri": "https://localhost:8080/"
    },
    "id": "5c7f7ff5",
    "outputId": "1957b479-7d44-4781-bd57-88e971560504"
   },
   "outputs": [
    {
     "name": "stdout",
     "output_type": "stream",
     "text": [
      "<class 'pandas.core.frame.DataFrame'>\n",
      "RangeIndex: 2035 entries, 0 to 2034\n",
      "Data columns (total 8 columns):\n",
      " #   Column                Non-Null Count  Dtype  \n",
      "---  ------                --------------  -----  \n",
      " 0   Date                  2035 non-null   object \n",
      " 1   Open                  2035 non-null   float64\n",
      " 2   High                  2035 non-null   float64\n",
      " 3   Low                   2035 non-null   float64\n",
      " 4   Last                  2035 non-null   float64\n",
      " 5   Close                 2035 non-null   float64\n",
      " 6   Total Trade Quantity  2035 non-null   int64  \n",
      " 7   Turnover (Lacs)       2035 non-null   float64\n",
      "dtypes: float64(6), int64(1), object(1)\n",
      "memory usage: 127.3+ KB\n"
     ]
    }
   ],
   "source": [
    "df.info()"
   ]
  },
  {
   "cell_type": "markdown",
   "id": "e00aea06",
   "metadata": {
    "id": "e00aea06"
   },
   "source": [
    "# Checking for Null Values"
   ]
  },
  {
   "cell_type": "code",
   "execution_count": null,
   "id": "e4e30be5",
   "metadata": {
    "colab": {
     "base_uri": "https://localhost:8080/"
    },
    "id": "e4e30be5",
    "outputId": "2d39156b-8b8d-441b-9ec0-465821a8f27b"
   },
   "outputs": [
    {
     "data": {
      "text/plain": [
       "Date                    0\n",
       "Open                    0\n",
       "High                    0\n",
       "Low                     0\n",
       "Last                    0\n",
       "Close                   0\n",
       "Total Trade Quantity    0\n",
       "Turnover (Lacs)         0\n",
       "dtype: int64"
      ]
     },
     "execution_count": 12,
     "metadata": {},
     "output_type": "execute_result"
    }
   ],
   "source": [
    "df.isnull().sum()"
   ]
  },
  {
   "cell_type": "markdown",
   "id": "cc3c7471",
   "metadata": {
    "id": "cc3c7471"
   },
   "source": [
    "# Getting maximum values "
   ]
  },
  {
   "cell_type": "code",
   "execution_count": null,
   "id": "cf3d36b9",
   "metadata": {
    "colab": {
     "base_uri": "https://localhost:8080/"
    },
    "id": "cf3d36b9",
    "outputId": "22f8d472-b364-45de-ff1f-3f80f237b7ac"
   },
   "outputs": [
    {
     "data": {
      "text/plain": [
       "Date                    2018-09-28\n",
       "Open                         327.7\n",
       "High                        328.75\n",
       "Low                         321.65\n",
       "Last                        325.95\n",
       "Close                       325.75\n",
       "Total Trade Quantity      29191015\n",
       "Turnover (Lacs)            55755.1\n",
       "dtype: object"
      ]
     },
     "execution_count": 13,
     "metadata": {},
     "output_type": "execute_result"
    }
   ],
   "source": [
    "df.max()"
   ]
  },
  {
   "cell_type": "markdown",
   "id": "9abb5372",
   "metadata": {
    "id": "9abb5372"
   },
   "source": [
    "# Getting minimum values "
   ]
  },
  {
   "cell_type": "code",
   "execution_count": null,
   "id": "2e306b76",
   "metadata": {
    "colab": {
     "base_uri": "https://localhost:8080/"
    },
    "id": "2e306b76",
    "outputId": "27dc15d1-bc20-41c3-d1ea-f88e0e4eb73e"
   },
   "outputs": [
    {
     "data": {
      "text/plain": [
       "Date                    2010-07-21\n",
       "Open                          81.1\n",
       "High                          82.8\n",
       "Low                             80\n",
       "Last                            81\n",
       "Close                        80.95\n",
       "Total Trade Quantity         39610\n",
       "Turnover (Lacs)              37.04\n",
       "dtype: object"
      ]
     },
     "execution_count": 14,
     "metadata": {},
     "output_type": "execute_result"
    }
   ],
   "source": [
    "df.min()"
   ]
  },
  {
   "cell_type": "markdown",
   "id": "e8832f45",
   "metadata": {
    "id": "e8832f45",
    "outputId": "dfef7f6a-112f-4f17-b300-bc19bf80bc1d"
   },
   "source": [
    "# Check if null values are present"
   ]
  },
  {
   "cell_type": "code",
   "execution_count": null,
   "id": "bc82ec23",
   "metadata": {
    "colab": {
     "base_uri": "https://localhost:8080/",
     "height": 423
    },
    "id": "bc82ec23",
    "outputId": "540c531d-ef16-493f-c798-1998f8045ec2"
   },
   "outputs": [
    {
     "data": {
      "text/html": [
       "\n",
       "  <div id=\"df-7e4ae51c-d180-4fc8-9249-029f4b8a8f95\">\n",
       "    <div class=\"colab-df-container\">\n",
       "      <div>\n",
       "<style scoped>\n",
       "    .dataframe tbody tr th:only-of-type {\n",
       "        vertical-align: middle;\n",
       "    }\n",
       "\n",
       "    .dataframe tbody tr th {\n",
       "        vertical-align: top;\n",
       "    }\n",
       "\n",
       "    .dataframe thead th {\n",
       "        text-align: right;\n",
       "    }\n",
       "</style>\n",
       "<table border=\"1\" class=\"dataframe\">\n",
       "  <thead>\n",
       "    <tr style=\"text-align: right;\">\n",
       "      <th></th>\n",
       "      <th>Date</th>\n",
       "      <th>Open</th>\n",
       "      <th>High</th>\n",
       "      <th>Low</th>\n",
       "      <th>Last</th>\n",
       "      <th>Close</th>\n",
       "      <th>Total Trade Quantity</th>\n",
       "      <th>Turnover (Lacs)</th>\n",
       "    </tr>\n",
       "  </thead>\n",
       "  <tbody>\n",
       "    <tr>\n",
       "      <th>0</th>\n",
       "      <td>False</td>\n",
       "      <td>False</td>\n",
       "      <td>False</td>\n",
       "      <td>False</td>\n",
       "      <td>False</td>\n",
       "      <td>False</td>\n",
       "      <td>False</td>\n",
       "      <td>False</td>\n",
       "    </tr>\n",
       "    <tr>\n",
       "      <th>1</th>\n",
       "      <td>False</td>\n",
       "      <td>False</td>\n",
       "      <td>False</td>\n",
       "      <td>False</td>\n",
       "      <td>False</td>\n",
       "      <td>False</td>\n",
       "      <td>False</td>\n",
       "      <td>False</td>\n",
       "    </tr>\n",
       "    <tr>\n",
       "      <th>2</th>\n",
       "      <td>False</td>\n",
       "      <td>False</td>\n",
       "      <td>False</td>\n",
       "      <td>False</td>\n",
       "      <td>False</td>\n",
       "      <td>False</td>\n",
       "      <td>False</td>\n",
       "      <td>False</td>\n",
       "    </tr>\n",
       "    <tr>\n",
       "      <th>3</th>\n",
       "      <td>False</td>\n",
       "      <td>False</td>\n",
       "      <td>False</td>\n",
       "      <td>False</td>\n",
       "      <td>False</td>\n",
       "      <td>False</td>\n",
       "      <td>False</td>\n",
       "      <td>False</td>\n",
       "    </tr>\n",
       "    <tr>\n",
       "      <th>4</th>\n",
       "      <td>False</td>\n",
       "      <td>False</td>\n",
       "      <td>False</td>\n",
       "      <td>False</td>\n",
       "      <td>False</td>\n",
       "      <td>False</td>\n",
       "      <td>False</td>\n",
       "      <td>False</td>\n",
       "    </tr>\n",
       "    <tr>\n",
       "      <th>...</th>\n",
       "      <td>...</td>\n",
       "      <td>...</td>\n",
       "      <td>...</td>\n",
       "      <td>...</td>\n",
       "      <td>...</td>\n",
       "      <td>...</td>\n",
       "      <td>...</td>\n",
       "      <td>...</td>\n",
       "    </tr>\n",
       "    <tr>\n",
       "      <th>2030</th>\n",
       "      <td>False</td>\n",
       "      <td>False</td>\n",
       "      <td>False</td>\n",
       "      <td>False</td>\n",
       "      <td>False</td>\n",
       "      <td>False</td>\n",
       "      <td>False</td>\n",
       "      <td>False</td>\n",
       "    </tr>\n",
       "    <tr>\n",
       "      <th>2031</th>\n",
       "      <td>False</td>\n",
       "      <td>False</td>\n",
       "      <td>False</td>\n",
       "      <td>False</td>\n",
       "      <td>False</td>\n",
       "      <td>False</td>\n",
       "      <td>False</td>\n",
       "      <td>False</td>\n",
       "    </tr>\n",
       "    <tr>\n",
       "      <th>2032</th>\n",
       "      <td>False</td>\n",
       "      <td>False</td>\n",
       "      <td>False</td>\n",
       "      <td>False</td>\n",
       "      <td>False</td>\n",
       "      <td>False</td>\n",
       "      <td>False</td>\n",
       "      <td>False</td>\n",
       "    </tr>\n",
       "    <tr>\n",
       "      <th>2033</th>\n",
       "      <td>False</td>\n",
       "      <td>False</td>\n",
       "      <td>False</td>\n",
       "      <td>False</td>\n",
       "      <td>False</td>\n",
       "      <td>False</td>\n",
       "      <td>False</td>\n",
       "      <td>False</td>\n",
       "    </tr>\n",
       "    <tr>\n",
       "      <th>2034</th>\n",
       "      <td>False</td>\n",
       "      <td>False</td>\n",
       "      <td>False</td>\n",
       "      <td>False</td>\n",
       "      <td>False</td>\n",
       "      <td>False</td>\n",
       "      <td>False</td>\n",
       "      <td>False</td>\n",
       "    </tr>\n",
       "  </tbody>\n",
       "</table>\n",
       "<p>2035 rows × 8 columns</p>\n",
       "</div>\n",
       "      <button class=\"colab-df-convert\" onclick=\"convertToInteractive('df-7e4ae51c-d180-4fc8-9249-029f4b8a8f95')\"\n",
       "              title=\"Convert this dataframe to an interactive table.\"\n",
       "              style=\"display:none;\">\n",
       "        \n",
       "  <svg xmlns=\"http://www.w3.org/2000/svg\" height=\"24px\"viewBox=\"0 0 24 24\"\n",
       "       width=\"24px\">\n",
       "    <path d=\"M0 0h24v24H0V0z\" fill=\"none\"/>\n",
       "    <path d=\"M18.56 5.44l.94 2.06.94-2.06 2.06-.94-2.06-.94-.94-2.06-.94 2.06-2.06.94zm-11 1L8.5 8.5l.94-2.06 2.06-.94-2.06-.94L8.5 2.5l-.94 2.06-2.06.94zm10 10l.94 2.06.94-2.06 2.06-.94-2.06-.94-.94-2.06-.94 2.06-2.06.94z\"/><path d=\"M17.41 7.96l-1.37-1.37c-.4-.4-.92-.59-1.43-.59-.52 0-1.04.2-1.43.59L10.3 9.45l-7.72 7.72c-.78.78-.78 2.05 0 2.83L4 21.41c.39.39.9.59 1.41.59.51 0 1.02-.2 1.41-.59l7.78-7.78 2.81-2.81c.8-.78.8-2.07 0-2.86zM5.41 20L4 18.59l7.72-7.72 1.47 1.35L5.41 20z\"/>\n",
       "  </svg>\n",
       "      </button>\n",
       "      \n",
       "  <style>\n",
       "    .colab-df-container {\n",
       "      display:flex;\n",
       "      flex-wrap:wrap;\n",
       "      gap: 12px;\n",
       "    }\n",
       "\n",
       "    .colab-df-convert {\n",
       "      background-color: #E8F0FE;\n",
       "      border: none;\n",
       "      border-radius: 50%;\n",
       "      cursor: pointer;\n",
       "      display: none;\n",
       "      fill: #1967D2;\n",
       "      height: 32px;\n",
       "      padding: 0 0 0 0;\n",
       "      width: 32px;\n",
       "    }\n",
       "\n",
       "    .colab-df-convert:hover {\n",
       "      background-color: #E2EBFA;\n",
       "      box-shadow: 0px 1px 2px rgba(60, 64, 67, 0.3), 0px 1px 3px 1px rgba(60, 64, 67, 0.15);\n",
       "      fill: #174EA6;\n",
       "    }\n",
       "\n",
       "    [theme=dark] .colab-df-convert {\n",
       "      background-color: #3B4455;\n",
       "      fill: #D2E3FC;\n",
       "    }\n",
       "\n",
       "    [theme=dark] .colab-df-convert:hover {\n",
       "      background-color: #434B5C;\n",
       "      box-shadow: 0px 1px 3px 1px rgba(0, 0, 0, 0.15);\n",
       "      filter: drop-shadow(0px 1px 2px rgba(0, 0, 0, 0.3));\n",
       "      fill: #FFFFFF;\n",
       "    }\n",
       "  </style>\n",
       "\n",
       "      <script>\n",
       "        const buttonEl =\n",
       "          document.querySelector('#df-7e4ae51c-d180-4fc8-9249-029f4b8a8f95 button.colab-df-convert');\n",
       "        buttonEl.style.display =\n",
       "          google.colab.kernel.accessAllowed ? 'block' : 'none';\n",
       "\n",
       "        async function convertToInteractive(key) {\n",
       "          const element = document.querySelector('#df-7e4ae51c-d180-4fc8-9249-029f4b8a8f95');\n",
       "          const dataTable =\n",
       "            await google.colab.kernel.invokeFunction('convertToInteractive',\n",
       "                                                     [key], {});\n",
       "          if (!dataTable) return;\n",
       "\n",
       "          const docLinkHtml = 'Like what you see? Visit the ' +\n",
       "            '<a target=\"_blank\" href=https://colab.research.google.com/notebooks/data_table.ipynb>data table notebook</a>'\n",
       "            + ' to learn more about interactive tables.';\n",
       "          element.innerHTML = '';\n",
       "          dataTable['output_type'] = 'display_data';\n",
       "          await google.colab.output.renderOutput(dataTable, element);\n",
       "          const docLink = document.createElement('div');\n",
       "          docLink.innerHTML = docLinkHtml;\n",
       "          element.appendChild(docLink);\n",
       "        }\n",
       "      </script>\n",
       "    </div>\n",
       "  </div>\n",
       "  "
      ],
      "text/plain": [
       "       Date   Open   High  ...  Close  Total Trade Quantity  Turnover (Lacs)\n",
       "0     False  False  False  ...  False                 False            False\n",
       "1     False  False  False  ...  False                 False            False\n",
       "2     False  False  False  ...  False                 False            False\n",
       "3     False  False  False  ...  False                 False            False\n",
       "4     False  False  False  ...  False                 False            False\n",
       "...     ...    ...    ...  ...    ...                   ...              ...\n",
       "2030  False  False  False  ...  False                 False            False\n",
       "2031  False  False  False  ...  False                 False            False\n",
       "2032  False  False  False  ...  False                 False            False\n",
       "2033  False  False  False  ...  False                 False            False\n",
       "2034  False  False  False  ...  False                 False            False\n",
       "\n",
       "[2035 rows x 8 columns]"
      ]
     },
     "execution_count": 15,
     "metadata": {},
     "output_type": "execute_result"
    }
   ],
   "source": [
    "df.isnull()"
   ]
  },
  {
   "cell_type": "markdown",
   "id": "2b57cc69",
   "metadata": {
    "id": "2b57cc69"
   },
   "source": [
    "# Data visualization"
   ]
  },
  {
   "cell_type": "code",
   "execution_count": null,
   "id": "3e93fd20",
   "metadata": {
    "colab": {
     "base_uri": "https://localhost:8080/",
     "height": 542
    },
    "id": "3e93fd20",
    "outputId": "fa46552f-b8a2-4273-b08b-6d765a521e4c"
   },
   "outputs": [
    {
     "data": {
      "image/png": "[encoded data removed]",
      "text/plain": [
       "<Figure size 432x288 with 1 Axes>"
      ]
     },
     "metadata": {
      "needs_background": "light"
     },
     "output_type": "display_data"
    },
    {
     "data": {
      "image/png": "[encoded data removed]",
      "text/plain": [
       "<Figure size 432x288 with 1 Axes>"
      ]
     },
     "metadata": {
      "needs_background": "light"
     },
     "output_type": "display_data"
    }
   ],
   "source": [
    "plt.subplot (1,2,1)\n",
    "plt.plot (df['Close'],color = 'red')\n",
    "plt.show()\n",
    "\n",
    "plt.subplot(1,2,2)\n",
    "plt.plot (df['Open'],color = 'yellow')\n",
    "plt.suptitle (\"Open and Close Line Plots\")\n",
    "plt.show()"
   ]
  },
  {
   "cell_type": "code",
   "execution_count": null,
   "id": "dbf88716",
   "metadata": {
    "colab": {
     "base_uri": "https://localhost:8080/",
     "height": 265
    },
    "id": "dbf88716",
    "outputId": "4c8085d6-7849-4b4c-be41-dc94fc7ba0ed"
   },
   "outputs": [
    {
     "data": {
      "image/png": "[encoded data removed]",
      "text/plain": [
       "<Figure size 432x288 with 1 Axes>"
      ]
     },
     "metadata": {
      "needs_background": "light"
     },
     "output_type": "display_data"
    }
   ],
   "source": [
    "plt.hist (df['High'],color = 'black')\n",
    "plt.show()\n"
   ]
  },
  {
   "cell_type": "markdown",
   "id": "ba875c57",
   "metadata": {
    "id": "ba875c57"
   },
   "source": [
    "# To display no. of samples on each class"
   ]
  },
  {
   "cell_type": "code",
   "execution_count": null,
   "id": "cf7d3373",
   "metadata": {
    "colab": {
     "base_uri": "https://localhost:8080/"
    },
    "id": "cf7d3373",
    "outputId": "a989cb26-5c4f-476a-99d9-9df153b11832"
   },
   "outputs": [
    {
     "data": {
      "text/plain": [
       "0       230.20\n",
       "1       231.10\n",
       "2       232.50\n",
       "3       232.00\n",
       "4       230.75\n",
       "         ...  \n",
       "2030    112.00\n",
       "2031    117.10\n",
       "2032    120.25\n",
       "2033    120.25\n",
       "2034    121.05\n",
       "Name: Low, Length: 2035, dtype: float64"
      ]
     },
     "execution_count": 18,
     "metadata": {},
     "output_type": "execute_result"
    }
   ],
   "source": [
    "df_low = df.reset_index()['Low']\n",
    "df_low"
   ]
  },
  {
   "cell_type": "code",
   "execution_count": null,
   "id": "a54b573d",
   "metadata": {
    "colab": {
     "base_uri": "https://localhost:8080/",
     "height": 444
    },
    "id": "a54b573d",
    "outputId": "be5180a6-baa4-4336-ae68-bd3bb2273988"
   },
   "outputs": [
    {
     "data": {
      "image/png": "[encoded data removed]",
      "text/plain": [
       "<Figure size 504x504 with 1 Axes>"
      ]
     },
     "metadata": {
      "needs_background": "light"
     },
     "output_type": "display_data"
    }
   ],
   "source": [
    "plt.figure (figsize = (7,7))\n",
    "plt.boxplot (df_low)\n",
    "plt.title (\"Box Plot of Low\")\n",
    "plt.show()"
   ]
  },
  {
   "cell_type": "markdown",
   "id": "1cfb3d73",
   "metadata": {
    "id": "c99889f9"
   },
   "source": [
    "# Here we will use min-max scalar to transform the values from 0 to 1.We should reshape so that we can use fit transform."
   ]
  },
  {
   "cell_type": "code",
   "execution_count": null,
   "id": "3e8435e2",
   "metadata": {
    "id": "3e8435e2"
   },
   "outputs": [],
   "source": [
    "from sklearn.preprocessing import MinMaxScaler\n",
    "scaler = MinMaxScaler (feature_range = (0,1))\n",
    "df_low = scaler.fit_transform (np.array(df_low).reshape(-1,1))"
   ]
  },
  {
   "cell_type": "code",
   "execution_count": null,
   "id": "1607d08c",
   "metadata": {
    "colab": {
     "base_uri": "https://localhost:8080/"
    },
    "id": "1607d08c",
    "outputId": "49fece7c-d440-43dc-d7ba-20b3c4d46f53"
   },
   "outputs": [
    {
     "name": "stdout",
     "output_type": "stream",
     "text": [
      "[[0.62156011]\n",
      " [0.6252845 ]\n",
      " [0.63107801]\n",
      " ...\n",
      " [0.16656321]\n",
      " [0.16656321]\n",
      " [0.16987378]]\n"
     ]
    }
   ],
   "source": [
    "print (df_low)"
   ]
  },
  {
   "cell_type": "markdown",
   "id": "9fa0d1da",
   "metadata": {
    "id": "9fa0d1da"
   },
   "source": [
    "# Train and Test Split"
   ]
  },
  {
   "cell_type": "code",
   "execution_count": null,
   "id": "76f7cc03",
   "metadata": {
    "id": "76f7cc03"
   },
   "outputs": [],
   "source": [
    "training_size=int(len(df_low)*0.65)\n",
    "test_size=len(df_low)-training_size\n",
    "train_data,test_data=df_low[0:training_size,:],df_low[training_size:len(df_low),:1]"
   ]
  },
  {
   "cell_type": "code",
   "execution_count": null,
   "id": "a7d829f0",
   "metadata": {
    "colab": {
     "base_uri": "https://localhost:8080/"
    },
    "id": "a7d829f0",
    "outputId": "e350a2c1-3a00-4213-977d-566319bc4015"
   },
   "outputs": [
    {
     "data": {
      "text/plain": [
       "(1322, 713)"
      ]
     },
     "execution_count": 24,
     "metadata": {},
     "output_type": "execute_result"
    }
   ],
   "source": [
    "training_size,test_size"
   ]
  },
  {
   "cell_type": "code",
   "execution_count": null,
   "id": "ee25aa3b",
   "metadata": {
    "colab": {
     "base_uri": "https://localhost:8080/"
    },
    "id": "ee25aa3b",
    "outputId": "753d6a73-6a70-45c9-e9f1-4a70c499c45e"
   },
   "outputs": [
    {
     "data": {
      "text/plain": [
       "array([[0.62156011],\n",
       "       [0.6252845 ],\n",
       "       [0.63107801],\n",
       "       ...,\n",
       "       [0.25181047],\n",
       "       [0.26174219],\n",
       "       [0.25305193]])"
      ]
     },
     "execution_count": 25,
     "metadata": {},
     "output_type": "execute_result"
    }
   ],
   "source": [
    "train_data"
   ]
  },
  {
   "cell_type": "markdown",
   "id": "eb789254",
   "metadata": {
    "id": "eb789254"
   },
   "source": [
    "# Data Preprocessing"
   ]
  },
  {
   "cell_type": "markdown",
   "id": "ca723815",
   "metadata": {
    "id": "ca723815"
   },
   "source": [
    "# convert an array of values into a dataset matrix"
   ]
  },
  {
   "cell_type": "code",
   "execution_count": null,
   "id": "ce639d4b",
   "metadata": {
    "id": "ce639d4b"
   },
   "outputs": [],
   "source": [
    "import numpy\n",
    "def create_dataset(dataset, time_step=1):\n",
    "\tdataX, dataY = [], []\n",
    "\tfor i in range(len(dataset)-time_step-1):\n",
    "\t\ta = dataset[i:(i+time_step), 0]   \n",
    "\t\tdataX.append(a)\n",
    "\t\tdataY.append(dataset[i + time_step, 0])\n",
    "\treturn numpy.array(dataX), numpy.array(dataY)"
   ]
  },
  {
   "cell_type": "code",
   "execution_count": null,
   "id": "da37ccf2",
   "metadata": {
    "id": "da37ccf2"
   },
   "outputs": [],
   "source": [
    "# reshape into X=t,t+1,t+2,t+3 and Y=t+4\n",
    "time_step = 100\n",
    "X_train, y_train = create_dataset(train_data, time_step)\n",
    "X_test, ytest = create_dataset(test_data, time_step)"
   ]
  },
  {
   "cell_type": "markdown",
   "id": "bc4546fb",
   "metadata": {
    "id": "bc4546fb",
    "outputId": "05205fad-1e3b-4ca2-d100-b9fb77994f76"
   },
   "source": [
    " print(X_train.shape), print(y_train.shape)"
   ]
  },
  {
   "cell_type": "markdown",
   "id": "506bd51f",
   "metadata": {
    "id": "506bd51f"
   },
   "source": [
    "# LSTM"
   ]
  },
  {
   "cell_type": "code",
   "execution_count": null,
   "id": "c460c1bb",
   "metadata": {
    "id": "c460c1bb"
   },
   "outputs": [],
   "source": [
    "# reshape input to be [samples, time steps, features] which is required for LSTM\n",
    "X_train =X_train.reshape(X_train.shape[0],X_train.shape[1] , 1)\n",
    "X_test = X_test.reshape(X_test.shape[0],X_test.shape[1] , 1)"
   ]
  },
  {
   "cell_type": "markdown",
   "id": "4a1e6a04",
   "metadata": {
    "id": "4a1e6a04"
   },
   "source": [
    "# Create the Stacked LSTM model"
   ]
  },
  {
   "cell_type": "code",
   "execution_count": null,
   "id": "28d3e3ce",
   "metadata": {
    "id": "28d3e3ce"
   },
   "outputs": [],
   "source": [
    "\n",
    "from tensorflow.keras.layers import Dense\n",
    "from tensorflow.keras.layers import LSTM\n",
    "from tensorflow.keras.models import Sequential\n"
   ]
  },
  {
   "cell_type": "code",
   "execution_count": null,
   "id": "141c5f1b",
   "metadata": {
    "id": "141c5f1b"
   },
   "outputs": [],
   "source": [
    "model=Sequential()\n",
    "model.add(LSTM(50,return_sequences=True,input_shape=(100,1)))\n",
    "model.add(LSTM(50,return_sequences=True))\n",
    "model.add(LSTM(50))\n",
    "model.add(Dense(1))\n",
    "model.compile(loss='mean_squared_error',optimizer='adam')"
   ]
  },
  {
   "cell_type": "markdown",
   "id": "ace630a2",
   "metadata": {
    "id": "ace630a2"
   },
   "source": [
    "# Summary"
   ]
  },
  {
   "cell_type": "code",
   "execution_count": null,
   "id": "hZ-Z4BwQt3bM",
   "metadata": {
    "colab": {
     "base_uri": "https://localhost:8080/"
    },
    "id": "hZ-Z4BwQt3bM",
    "outputId": "0452a121-b62b-4da2-c31c-34577d9bcd5a"
   },
   "outputs": [
    {
     "name": "stdout",
     "output_type": "stream",
     "text": [
      "Model: \"sequential\"\n",
      "_________________________________________________________________\n",
      " Layer (type)                Output Shape              Param #   \n",
      "=================================================================\n",
      " lstm (LSTM)                 (None, 100, 50)           10400     \n",
      "                                                                 \n",
      " lstm_1 (LSTM)               (None, 100, 50)           20200     \n",
      "                                                                 \n",
      " lstm_2 (LSTM)               (None, 50)                20200     \n",
      "                                                                 \n",
      " dense (Dense)               (None, 1)                 51        \n",
      "                                                                 \n",
      "=================================================================\n",
      "Total params: 50,851\n",
      "Trainable params: 50,851\n",
      "Non-trainable params: 0\n",
      "_________________________________________________________________\n"
     ]
    }
   ],
   "source": [
    "model.summary()"
   ]
  },
  {
   "cell_type": "code",
   "execution_count": null,
   "id": "H3LyQ2HeuAX6",
   "metadata": {
    "colab": {
     "base_uri": "https://localhost:8080/"
    },
    "id": "H3LyQ2HeuAX6",
    "outputId": "7984203a-4e17-46ee-d620-219e55d192b1"
   },
   "outputs": [
    {
     "name": "stdout",
     "output_type": "stream",
     "text": [
      "Epoch 1/100\n",
      "20/20 [==============================] - 12s 288ms/step - loss: 0.0325 - val_loss: 0.0042\n",
      "Epoch 2/100\n",
      "20/20 [==============================] - 4s 194ms/step - loss: 0.0040 - val_loss: 0.0015\n",
      "Epoch 3/100\n",
      "20/20 [==============================] - 4s 191ms/step - loss: 0.0017 - val_loss: 0.0010\n",
      "Epoch 4/100\n",
      "20/20 [==============================] - 4s 193ms/step - loss: 0.0016 - val_loss: 0.0012\n",
      "Epoch 5/100\n",
      "20/20 [==============================] - 4s 194ms/step - loss: 0.0015 - val_loss: 0.0014\n",
      "Epoch 6/100\n",
      "20/20 [==============================] - 4s 199ms/step - loss: 0.0014 - val_loss: 9.6339e-04\n",
      "Epoch 7/100\n",
      "20/20 [==============================] - 4s 186ms/step - loss: 0.0014 - val_loss: 0.0011\n",
      "Epoch 8/100\n",
      "20/20 [==============================] - 4s 195ms/step - loss: 0.0012 - val_loss: 0.0011\n",
      "Epoch 9/100\n",
      "20/20 [==============================] - 4s 201ms/step - loss: 0.0012 - val_loss: 8.9434e-04\n",
      "Epoch 10/100\n",
      "20/20 [==============================] - 4s 198ms/step - loss: 0.0012 - val_loss: 8.1850e-04\n",
      "Epoch 11/100\n",
      "20/20 [==============================] - 4s 207ms/step - loss: 0.0011 - val_loss: 7.8197e-04\n",
      "Epoch 12/100\n",
      "20/20 [==============================] - 4s 193ms/step - loss: 0.0012 - val_loss: 7.7599e-04\n",
      "Epoch 13/100\n",
      "20/20 [==============================] - 4s 195ms/step - loss: 0.0010 - val_loss: 7.7080e-04\n",
      "Epoch 14/100\n",
      "20/20 [==============================] - 4s 199ms/step - loss: 9.7474e-04 - val_loss: 6.9774e-04\n",
      "Epoch 15/100\n",
      "20/20 [==============================] - 4s 199ms/step - loss: 0.0011 - val_loss: 7.6120e-04\n",
      "Epoch 16/100\n",
      "20/20 [==============================] - 4s 190ms/step - loss: 9.7618e-04 - val_loss: 8.4672e-04\n",
      "Epoch 17/100\n",
      "20/20 [==============================] - 4s 208ms/step - loss: 8.7440e-04 - val_loss: 7.9337e-04\n",
      "Epoch 18/100\n",
      "20/20 [==============================] - 4s 198ms/step - loss: 9.0555e-04 - val_loss: 0.0013\n",
      "Epoch 19/100\n",
      "20/20 [==============================] - 4s 208ms/step - loss: 0.0012 - val_loss: 0.0010\n",
      "Epoch 20/100\n",
      "20/20 [==============================] - 4s 207ms/step - loss: 8.8038e-04 - val_loss: 8.3023e-04\n",
      "Epoch 21/100\n",
      "20/20 [==============================] - 4s 195ms/step - loss: 8.2139e-04 - val_loss: 6.2797e-04\n",
      "Epoch 22/100\n",
      "20/20 [==============================] - 4s 198ms/step - loss: 9.8873e-04 - val_loss: 6.0305e-04\n",
      "Epoch 23/100\n",
      "20/20 [==============================] - 4s 192ms/step - loss: 0.0011 - val_loss: 7.8575e-04\n",
      "Epoch 24/100\n",
      "20/20 [==============================] - 4s 191ms/step - loss: 0.0011 - val_loss: 7.4157e-04\n",
      "Epoch 25/100\n",
      "20/20 [==============================] - 4s 187ms/step - loss: 8.1120e-04 - val_loss: 7.8154e-04\n",
      "Epoch 26/100\n",
      "20/20 [==============================] - 4s 200ms/step - loss: 7.6828e-04 - val_loss: 9.1474e-04\n",
      "Epoch 27/100\n",
      "20/20 [==============================] - 4s 197ms/step - loss: 8.1013e-04 - val_loss: 7.7364e-04\n",
      "Epoch 28/100\n",
      "20/20 [==============================] - 4s 190ms/step - loss: 7.0067e-04 - val_loss: 7.3616e-04\n",
      "Epoch 29/100\n",
      "20/20 [==============================] - 4s 190ms/step - loss: 7.4921e-04 - val_loss: 8.8699e-04\n",
      "Epoch 30/100\n",
      "20/20 [==============================] - 4s 199ms/step - loss: 7.3610e-04 - val_loss: 7.4472e-04\n",
      "Epoch 31/100\n",
      "20/20 [==============================] - 4s 206ms/step - loss: 7.2488e-04 - val_loss: 6.1490e-04\n",
      "Epoch 32/100\n",
      "20/20 [==============================] - 4s 196ms/step - loss: 8.1456e-04 - val_loss: 6.3535e-04\n",
      "Epoch 33/100\n",
      "20/20 [==============================] - 4s 205ms/step - loss: 7.8017e-04 - val_loss: 6.9369e-04\n",
      "Epoch 34/100\n",
      "20/20 [==============================] - 4s 199ms/step - loss: 7.0648e-04 - val_loss: 7.2148e-04\n",
      "Epoch 35/100\n",
      "20/20 [==============================] - 4s 202ms/step - loss: 6.6084e-04 - val_loss: 8.0721e-04\n",
      "Epoch 36/100\n",
      "20/20 [==============================] - 4s 200ms/step - loss: 6.9751e-04 - val_loss: 6.1677e-04\n",
      "Epoch 37/100\n",
      "20/20 [==============================] - 4s 194ms/step - loss: 6.2717e-04 - val_loss: 6.3034e-04\n",
      "Epoch 38/100\n",
      "20/20 [==============================] - 4s 199ms/step - loss: 6.1687e-04 - val_loss: 5.7887e-04\n",
      "Epoch 39/100\n",
      "20/20 [==============================] - 4s 188ms/step - loss: 5.8477e-04 - val_loss: 5.7740e-04\n",
      "Epoch 40/100\n",
      "20/20 [==============================] - 4s 193ms/step - loss: 6.2522e-04 - val_loss: 5.2489e-04\n",
      "Epoch 41/100\n",
      "20/20 [==============================] - 4s 196ms/step - loss: 6.6351e-04 - val_loss: 6.8373e-04\n",
      "Epoch 42/100\n",
      "20/20 [==============================] - 4s 195ms/step - loss: 5.8701e-04 - val_loss: 4.9758e-04\n",
      "Epoch 43/100\n",
      "20/20 [==============================] - 4s 186ms/step - loss: 6.1596e-04 - val_loss: 6.9181e-04\n",
      "Epoch 44/100\n",
      "20/20 [==============================] - 4s 201ms/step - loss: 5.8463e-04 - val_loss: 5.6750e-04\n",
      "Epoch 45/100\n",
      "20/20 [==============================] - 4s 204ms/step - loss: 5.6525e-04 - val_loss: 4.9984e-04\n",
      "Epoch 46/100\n",
      "20/20 [==============================] - 4s 201ms/step - loss: 5.3483e-04 - val_loss: 6.6523e-04\n",
      "Epoch 47/100\n",
      "20/20 [==============================] - 4s 201ms/step - loss: 5.3788e-04 - val_loss: 5.1519e-04\n",
      "Epoch 48/100\n",
      "20/20 [==============================] - 4s 197ms/step - loss: 5.9640e-04 - val_loss: 4.0850e-04\n",
      "Epoch 49/100\n",
      "20/20 [==============================] - 4s 187ms/step - loss: 5.6888e-04 - val_loss: 5.4702e-04\n",
      "Epoch 50/100\n",
      "20/20 [==============================] - 4s 198ms/step - loss: 5.9261e-04 - val_loss: 4.6444e-04\n",
      "Epoch 51/100\n",
      "20/20 [==============================] - 4s 193ms/step - loss: 5.4121e-04 - val_loss: 6.1908e-04\n",
      "Epoch 52/100\n",
      "20/20 [==============================] - 4s 188ms/step - loss: 5.2841e-04 - val_loss: 7.3022e-04\n",
      "Epoch 53/100\n",
      "20/20 [==============================] - 4s 193ms/step - loss: 5.3130e-04 - val_loss: 4.1511e-04\n",
      "Epoch 54/100\n",
      "20/20 [==============================] - 4s 191ms/step - loss: 5.4988e-04 - val_loss: 6.3726e-04\n",
      "Epoch 55/100\n",
      "20/20 [==============================] - 4s 192ms/step - loss: 6.8569e-04 - val_loss: 3.7254e-04\n",
      "Epoch 56/100\n",
      "20/20 [==============================] - 4s 195ms/step - loss: 5.5299e-04 - val_loss: 4.4282e-04\n",
      "Epoch 57/100\n",
      "20/20 [==============================] - 4s 192ms/step - loss: 4.5270e-04 - val_loss: 4.8319e-04\n",
      "Epoch 58/100\n",
      "20/20 [==============================] - 4s 187ms/step - loss: 4.5854e-04 - val_loss: 6.2704e-04\n",
      "Epoch 59/100\n",
      "20/20 [==============================] - 4s 190ms/step - loss: 4.9676e-04 - val_loss: 6.0277e-04\n",
      "Epoch 60/100\n",
      "20/20 [==============================] - 4s 194ms/step - loss: 4.8267e-04 - val_loss: 4.3543e-04\n",
      "Epoch 61/100\n",
      "20/20 [==============================] - 4s 189ms/step - loss: 4.8979e-04 - val_loss: 4.2213e-04\n",
      "Epoch 62/100\n",
      "20/20 [==============================] - 4s 205ms/step - loss: 5.3991e-04 - val_loss: 4.8453e-04\n",
      "Epoch 63/100\n",
      "20/20 [==============================] - 4s 196ms/step - loss: 4.3085e-04 - val_loss: 7.1909e-04\n",
      "Epoch 64/100\n",
      "20/20 [==============================] - 4s 198ms/step - loss: 4.8790e-04 - val_loss: 3.7564e-04\n",
      "Epoch 65/100\n",
      "20/20 [==============================] - 4s 196ms/step - loss: 4.3638e-04 - val_loss: 4.3409e-04\n",
      "Epoch 66/100\n",
      "20/20 [==============================] - 4s 201ms/step - loss: 3.6224e-04 - val_loss: 3.5625e-04\n",
      "Epoch 67/100\n",
      "20/20 [==============================] - 4s 198ms/step - loss: 3.4781e-04 - val_loss: 4.2169e-04\n",
      "Epoch 68/100\n",
      "20/20 [==============================] - 4s 202ms/step - loss: 3.6543e-04 - val_loss: 2.9135e-04\n",
      "Epoch 69/100\n",
      "20/20 [==============================] - 4s 206ms/step - loss: 3.4702e-04 - val_loss: 3.1590e-04\n",
      "Epoch 70/100\n",
      "20/20 [==============================] - 4s 190ms/step - loss: 3.5438e-04 - val_loss: 3.0993e-04\n",
      "Epoch 71/100\n",
      "20/20 [==============================] - 4s 196ms/step - loss: 4.2260e-04 - val_loss: 3.2716e-04\n",
      "Epoch 72/100\n",
      "20/20 [==============================] - 4s 196ms/step - loss: 3.4545e-04 - val_loss: 3.0525e-04\n",
      "Epoch 73/100\n",
      "20/20 [==============================] - 4s 198ms/step - loss: 3.2082e-04 - val_loss: 4.0083e-04\n",
      "Epoch 74/100\n",
      "20/20 [==============================] - 4s 194ms/step - loss: 3.7729e-04 - val_loss: 2.8964e-04\n",
      "Epoch 75/100\n",
      "20/20 [==============================] - 4s 194ms/step - loss: 3.3744e-04 - val_loss: 3.2024e-04\n",
      "Epoch 76/100\n",
      "20/20 [==============================] - 4s 195ms/step - loss: 3.1643e-04 - val_loss: 3.2570e-04\n",
      "Epoch 77/100\n",
      "20/20 [==============================] - 4s 194ms/step - loss: 2.9439e-04 - val_loss: 3.4303e-04\n",
      "Epoch 78/100\n",
      "20/20 [==============================] - 4s 200ms/step - loss: 2.9308e-04 - val_loss: 3.5553e-04\n",
      "Epoch 79/100\n",
      "20/20 [==============================] - 4s 184ms/step - loss: 3.5129e-04 - val_loss: 2.4354e-04\n",
      "Epoch 80/100\n",
      "20/20 [==============================] - 4s 194ms/step - loss: 3.3032e-04 - val_loss: 2.4338e-04\n",
      "Epoch 81/100\n",
      "20/20 [==============================] - 4s 202ms/step - loss: 2.9447e-04 - val_loss: 2.6617e-04\n",
      "Epoch 82/100\n",
      "20/20 [==============================] - 4s 203ms/step - loss: 3.4129e-04 - val_loss: 2.6936e-04\n",
      "Epoch 83/100\n",
      "20/20 [==============================] - 4s 186ms/step - loss: 3.4391e-04 - val_loss: 3.0608e-04\n",
      "Epoch 84/100\n",
      "20/20 [==============================] - 4s 187ms/step - loss: 2.7245e-04 - val_loss: 2.3738e-04\n",
      "Epoch 85/100\n",
      "20/20 [==============================] - 4s 188ms/step - loss: 2.9604e-04 - val_loss: 2.5835e-04\n",
      "Epoch 86/100\n",
      "20/20 [==============================] - 4s 187ms/step - loss: 2.7142e-04 - val_loss: 2.3995e-04\n",
      "Epoch 87/100\n",
      "20/20 [==============================] - 4s 196ms/step - loss: 2.6518e-04 - val_loss: 2.8386e-04\n",
      "Epoch 88/100\n",
      "20/20 [==============================] - 4s 194ms/step - loss: 2.5849e-04 - val_loss: 2.7341e-04\n",
      "Epoch 89/100\n",
      "20/20 [==============================] - 4s 200ms/step - loss: 2.6780e-04 - val_loss: 2.4210e-04\n",
      "Epoch 90/100\n",
      "20/20 [==============================] - 4s 206ms/step - loss: 2.4999e-04 - val_loss: 2.2044e-04\n",
      "Epoch 91/100\n",
      "20/20 [==============================] - 4s 203ms/step - loss: 2.4578e-04 - val_loss: 2.1467e-04\n",
      "Epoch 92/100\n",
      "20/20 [==============================] - 4s 194ms/step - loss: 2.4408e-04 - val_loss: 2.2824e-04\n",
      "Epoch 93/100\n",
      "20/20 [==============================] - 4s 195ms/step - loss: 2.3444e-04 - val_loss: 2.1232e-04\n",
      "Epoch 94/100\n",
      "20/20 [==============================] - 4s 204ms/step - loss: 2.4192e-04 - val_loss: 2.1519e-04\n",
      "Epoch 95/100\n",
      "20/20 [==============================] - 4s 201ms/step - loss: 2.4481e-04 - val_loss: 2.2644e-04\n",
      "Epoch 96/100\n",
      "20/20 [==============================] - 4s 211ms/step - loss: 2.3335e-04 - val_loss: 4.5189e-04\n",
      "Epoch 97/100\n",
      "20/20 [==============================] - 4s 200ms/step - loss: 3.2864e-04 - val_loss: 2.5737e-04\n",
      "Epoch 98/100\n",
      "20/20 [==============================] - 4s 193ms/step - loss: 2.3951e-04 - val_loss: 1.9518e-04\n",
      "Epoch 99/100\n",
      "20/20 [==============================] - 4s 201ms/step - loss: 2.6640e-04 - val_loss: 1.8456e-04\n",
      "Epoch 100/100\n",
      "20/20 [==============================] - 4s 209ms/step - loss: 2.3423e-04 - val_loss: 2.6691e-04\n"
     ]
    },
    {
     "data": {
      "text/plain": [
       "<keras.callbacks.History at 0x7efc6da61b50>"
      ]
     },
     "execution_count": 32,
     "metadata": {},
     "output_type": "execute_result"
    }
   ],
   "source": [
    "model.fit(X_train,y_train,validation_data=(X_test,ytest),epochs=100,batch_size=64,verbose=1)"
   ]
  },
  {
   "cell_type": "code",
   "execution_count": null,
   "id": "ldeDidxcuGZm",
   "metadata": {
    "id": "ldeDidxcuGZm"
   },
   "outputs": [],
   "source": [
    "import tensorflow as tf"
   ]
  },
  {
   "cell_type": "code",
   "execution_count": null,
   "id": "Udcj_jCAvuEc",
   "metadata": {
    "colab": {
     "base_uri": "https://localhost:8080/",
     "height": 35
    },
    "id": "Udcj_jCAvuEc",
    "outputId": "91d195f6-aafa-4741-f23c-d7577117d7b2"
   },
   "outputs": [
    {
     "data": {
      "application/vnd.google.colaboratory.intrinsic+json": {
       "type": "string"
      },
      "text/plain": [
       "'2.7.0'"
      ]
     },
     "execution_count": 34,
     "metadata": {},
     "output_type": "execute_result"
    }
   ],
   "source": [
    "tf.__version__"
   ]
  },
  {
   "cell_type": "markdown",
   "id": "3da4c498",
   "metadata": {
    "id": "3da4c498"
   },
   "source": [
    "# Prediction"
   ]
  },
  {
   "cell_type": "code",
   "execution_count": null,
   "id": "m-AxqA3Fxpo2",
   "metadata": {
    "id": "m-AxqA3Fxpo2"
   },
   "outputs": [],
   "source": [
    "train_predict=model.predict(X_train)\n",
    "test_predict=model.predict(X_test)\n",
    "train_predict=scaler.inverse_transform(train_predict)\n",
    "test_predict=scaler.inverse_transform(test_predict)"
   ]
  },
  {
   "cell_type": "code",
   "execution_count": null,
   "id": "f13PT5Mbxsre",
   "metadata": {
    "colab": {
     "base_uri": "https://localhost:8080/"
    },
    "id": "f13PT5Mbxsre",
    "outputId": "ff199b3b-136b-4b8b-9cb8-12da0827a8d2"
   },
   "outputs": [
    {
     "data": {
      "text/plain": [
       "165.62932841758044"
      ]
     },
     "execution_count": 36,
     "metadata": {},
     "output_type": "execute_result"
    }
   ],
   "source": [
    "import math\n",
    "from sklearn.metrics import mean_squared_error\n",
    "math.sqrt(mean_squared_error(y_train,train_predict))"
   ]
  },
  {
   "cell_type": "code",
   "execution_count": null,
   "id": "CUcgucSPxv1B",
   "metadata": {
    "colab": {
     "base_uri": "https://localhost:8080/"
    },
    "id": "CUcgucSPxv1B",
    "outputId": "225e28ae-a3e0-4518-d287-50ba427d204a"
   },
   "outputs": [
    {
     "data": {
      "text/plain": [
       "115.26395297730967"
      ]
     },
     "execution_count": 37,
     "metadata": {},
     "output_type": "execute_result"
    }
   ],
   "source": [
    "math.sqrt(mean_squared_error(ytest,test_predict))"
   ]
  },
  {
   "cell_type": "markdown",
   "id": "a9ede4aa",
   "metadata": {
    "id": "a9ede4aa"
   },
   "source": [
    "# Plotting"
   ]
  },
  {
   "cell_type": "code",
   "execution_count": null,
   "id": "PmVJo69Vxx0j",
   "metadata": {
    "colab": {
     "base_uri": "https://localhost:8080/",
     "height": 265
    },
    "id": "PmVJo69Vxx0j",
    "outputId": "ae167975-17d0-4a81-a58c-b7d5955c956d"
   },
   "outputs": [
    {
     "data": {
      "image/png": "[encoded data removed]",
      "text/plain": [
       "<Figure size 432x288 with 1 Axes>"
      ]
     },
     "metadata": {
      "needs_background": "light"
     },
     "output_type": "display_data"
    }
   ],
   "source": [
    "# shift train predictions for plotting\n",
    "look_back=100\n",
    "trainPredictPlot = numpy.empty_like(df_low)\n",
    "trainPredictPlot[:, :] = np.nan\n",
    "trainPredictPlot[look_back:len(train_predict)+look_back, :] = train_predict\n",
    "# shift test predictions for plotting\n",
    "testPredictPlot = numpy.empty_like(df_low)\n",
    "testPredictPlot[:, :] = numpy.nan\n",
    "testPredictPlot[len(train_predict)+(look_back*2)+1:len(df_low)-1, :] = test_predict\n",
    "# plot baseline and predictions\n",
    "plt.plot(scaler.inverse_transform(df_low))\n",
    "plt.plot(trainPredictPlot)\n",
    "plt.plot(testPredictPlot)\n",
    "plt.show()"
   ]
  },
  {
   "cell_type": "markdown",
   "id": "8ca84074",
   "metadata": {
    "id": "8ca84074"
   },
   "source": [
    "# Predicting Stock Price for next 30 days"
   ]
  },
  {
   "cell_type": "code",
   "execution_count": null,
   "id": "9pcYOMlvx2yd",
   "metadata": {
    "colab": {
     "base_uri": "https://localhost:8080/"
    },
    "id": "9pcYOMlvx2yd",
    "outputId": "985d4c8d-1c09-4466-b5c2-0288eac9f425"
   },
   "outputs": [
    {
     "data": {
      "text/plain": [
       "713"
      ]
     },
     "execution_count": 39,
     "metadata": {},
     "output_type": "execute_result"
    }
   ],
   "source": [
    "len(test_data)"
   ]
  },
  {
   "cell_type": "code",
   "execution_count": null,
   "id": "Uk2i4R3Rza9X",
   "metadata": {
    "colab": {
     "base_uri": "https://localhost:8080/"
    },
    "id": "Uk2i4R3Rza9X",
    "outputId": "17f913c3-81c3-493d-e09e-7382de882629"
   },
   "outputs": [
    {
     "data": {
      "text/plain": [
       "(1, 100)"
      ]
     },
     "execution_count": 40,
     "metadata": {},
     "output_type": "execute_result"
    }
   ],
   "source": [
    "x_input=test_data[613:].reshape(1,-1)\n",
    "x_input.shape"
   ]
  },
  {
   "cell_type": "code",
   "execution_count": null,
   "id": "_INxXmb6zcmP",
   "metadata": {
    "id": "_INxXmb6zcmP"
   },
   "outputs": [],
   "source": [
    "temp_input=list(x_input)\n",
    "temp_input=temp_input[0].tolist()"
   ]
  },
  {
   "cell_type": "code",
   "execution_count": null,
   "id": "5qmWJD6IzeoX",
   "metadata": {
    "colab": {
     "base_uri": "https://localhost:8080/"
    },
    "id": "5qmWJD6IzeoX",
    "outputId": "16bee5fc-72b3-4e63-8042-89009c2e2c5d"
   },
   "outputs": [
    {
     "data": {
      "text/plain": [
       "[0.1249741361473205,\n",
       " 0.13945789364783778,\n",
       " 0.13904407200496582,\n",
       " 0.1373887854334782,\n",
       " 0.13490585557624662,\n",
       " 0.14214773432650524,\n",
       " 0.13656114214773435,\n",
       " 0.12849162011173182,\n",
       " 0.12456031450444854,\n",
       " 0.09724808607490171,\n",
       " 0.11276639768259877,\n",
       " 0.14959652389819988,\n",
       " 0.14111318021932545,\n",
       " 0.1531140078626112,\n",
       " 0.14525139664804465,\n",
       " 0.1460790399337885,\n",
       " 0.1655286571487689,\n",
       " 0.17835712807779847,\n",
       " 0.18290916614938968,\n",
       " 0.19573763707841918,\n",
       " 0.19449617214980341,\n",
       " 0.1827022553279537,\n",
       " 0.18415063107800544,\n",
       " 0.18704738257810882,\n",
       " 0.17835712807779847,\n",
       " 0.18208152286364576,\n",
       " 0.1843575418994413,\n",
       " 0.1779433064349265,\n",
       " 0.16759776536312848,\n",
       " 0.19573763707841918,\n",
       " 0.18849575832816057,\n",
       " 0.19325470722118765,\n",
       " 0.19966894268570246,\n",
       " 0.19884129939995865,\n",
       " 0.20153114007862605,\n",
       " 0.20070349679288224,\n",
       " 0.1992551210428306,\n",
       " 0.1918063314711359,\n",
       " 0.2002896751500104,\n",
       " 0.2112559486861163,\n",
       " 0.21249741361473207,\n",
       " 0.20691082143596107,\n",
       " 0.2205669356507346,\n",
       " 0.21146285950755228,\n",
       " 0.20546244568590943,\n",
       " 0.19490999379267537,\n",
       " 0.17877094972067042,\n",
       " 0.17877094972067042,\n",
       " 0.17090833850610387,\n",
       " 0.1620111731843576,\n",
       " 0.17049451686323192,\n",
       " 0.17401200082764323,\n",
       " 0.17856403889923445,\n",
       " 0.17732257397061868,\n",
       " 0.165114835505897,\n",
       " 0.16470101386302505,\n",
       " 0.1698737843989241,\n",
       " 0.17380509000620736,\n",
       " 0.17214980343471964,\n",
       " 0.17173598179184768,\n",
       " 0.1779433064349265,\n",
       " 0.1800124146492862,\n",
       " 0.18746120422098078,\n",
       " 0.19325470722118765,\n",
       " 0.18663356093523686,\n",
       " 0.1742189116490792,\n",
       " 0.1771156631491827,\n",
       " 0.17318435754189943,\n",
       " 0.17380509000620736,\n",
       " 0.16635630043451277,\n",
       " 0.1493896130767639,\n",
       " 0.1518725429339955,\n",
       " 0.1535278295054831,\n",
       " 0.15145872129112353,\n",
       " 0.14649286157666047,\n",
       " 0.14918270225532793,\n",
       " 0.1324229257190151,\n",
       " 0.12849162011173182,\n",
       " 0.11793916821849781,\n",
       " 0.11628388164701009,\n",
       " 0.12290502793296093,\n",
       " 0.12725015518311605,\n",
       " 0.13490585557624662,\n",
       " 0.13345747982619494,\n",
       " 0.1324229257190151,\n",
       " 0.13056072832609145,\n",
       " 0.1324229257190151,\n",
       " 0.1313883716118353,\n",
       " 0.13987171529070969,\n",
       " 0.1493896130767639,\n",
       " 0.15683840264845855,\n",
       " 0.15145872129112353,\n",
       " 0.14318228843368508,\n",
       " 0.13449203393337472,\n",
       " 0.15394165114835506,\n",
       " 0.1324229257190151,\n",
       " 0.1535278295054831,\n",
       " 0.1665632112559487,\n",
       " 0.1665632112559487,\n",
       " 0.1698737843989241]"
      ]
     },
     "execution_count": 42,
     "metadata": {},
     "output_type": "execute_result"
    }
   ],
   "source": [
    "temp_input"
   ]
  },
  {
   "cell_type": "markdown",
   "id": "96ebcd46",
   "metadata": {
    "id": "96ebcd46"
   },
   "source": [
    "#  Prediction for next 10 days"
   ]
  },
  {
   "cell_type": "code",
   "execution_count": null,
   "id": "lgNr1Q1AzhNq",
   "metadata": {
    "colab": {
     "base_uri": "https://localhost:8080/"
    },
    "id": "lgNr1Q1AzhNq",
    "outputId": "ee0af745-0832-4ba1-9d89-2a5cfd09c9e3"
   },
   "outputs": [
    {
     "name": "stdout",
     "output_type": "stream",
     "text": [
      "[0.17500049]\n",
      "101\n",
      "1 day input [0.13945789 0.13904407 0.13738879 0.13490586 0.14214773 0.13656114\n",
      " 0.12849162 0.12456031 0.09724809 0.1127664  0.14959652 0.14111318\n",
      " 0.15311401 0.1452514  0.14607904 0.16552866 0.17835713 0.18290917\n",
      " 0.19573764 0.19449617 0.18270226 0.18415063 0.18704738 0.17835713\n",
      " 0.18208152 0.18435754 0.17794331 0.16759777 0.19573764 0.18849576\n",
      " 0.19325471 0.19966894 0.1988413  0.20153114 0.2007035  0.19925512\n",
      " 0.19180633 0.20028968 0.21125595 0.21249741 0.20691082 0.22056694\n",
      " 0.21146286 0.20546245 0.19490999 0.17877095 0.17877095 0.17090834\n",
      " 0.16201117 0.17049452 0.174012   0.17856404 0.17732257 0.16511484\n",
      " 0.16470101 0.16987378 0.17380509 0.1721498  0.17173598 0.17794331\n",
      " 0.18001241 0.1874612  0.19325471 0.18663356 0.17421891 0.17711566\n",
      " 0.17318436 0.17380509 0.1663563  0.14938961 0.15187254 0.15352783\n",
      " 0.15145872 0.14649286 0.1491827  0.13242293 0.12849162 0.11793917\n",
      " 0.11628388 0.12290503 0.12725016 0.13490586 0.13345748 0.13242293\n",
      " 0.13056073 0.13242293 0.13138837 0.13987172 0.14938961 0.1568384\n",
      " 0.15145872 0.14318229 0.13449203 0.15394165 0.13242293 0.15352783\n",
      " 0.16656321 0.16656321 0.16987378 0.17500049]\n",
      "1 day output [[0.17976718]]\n",
      "2 day input [0.13904407 0.13738879 0.13490586 0.14214773 0.13656114 0.12849162\n",
      " 0.12456031 0.09724809 0.1127664  0.14959652 0.14111318 0.15311401\n",
      " 0.1452514  0.14607904 0.16552866 0.17835713 0.18290917 0.19573764\n",
      " 0.19449617 0.18270226 0.18415063 0.18704738 0.17835713 0.18208152\n",
      " 0.18435754 0.17794331 0.16759777 0.19573764 0.18849576 0.19325471\n",
      " 0.19966894 0.1988413  0.20153114 0.2007035  0.19925512 0.19180633\n",
      " 0.20028968 0.21125595 0.21249741 0.20691082 0.22056694 0.21146286\n",
      " 0.20546245 0.19490999 0.17877095 0.17877095 0.17090834 0.16201117\n",
      " 0.17049452 0.174012   0.17856404 0.17732257 0.16511484 0.16470101\n",
      " 0.16987378 0.17380509 0.1721498  0.17173598 0.17794331 0.18001241\n",
      " 0.1874612  0.19325471 0.18663356 0.17421891 0.17711566 0.17318436\n",
      " 0.17380509 0.1663563  0.14938961 0.15187254 0.15352783 0.15145872\n",
      " 0.14649286 0.1491827  0.13242293 0.12849162 0.11793917 0.11628388\n",
      " 0.12290503 0.12725016 0.13490586 0.13345748 0.13242293 0.13056073\n",
      " 0.13242293 0.13138837 0.13987172 0.14938961 0.1568384  0.15145872\n",
      " 0.14318229 0.13449203 0.15394165 0.13242293 0.15352783 0.16656321\n",
      " 0.16656321 0.16987378 0.17500049 0.17976718]\n",
      "2 day output [[0.18376744]]\n",
      "3 day input [0.13738879 0.13490586 0.14214773 0.13656114 0.12849162 0.12456031\n",
      " 0.09724809 0.1127664  0.14959652 0.14111318 0.15311401 0.1452514\n",
      " 0.14607904 0.16552866 0.17835713 0.18290917 0.19573764 0.19449617\n",
      " 0.18270226 0.18415063 0.18704738 0.17835713 0.18208152 0.18435754\n",
      " 0.17794331 0.16759777 0.19573764 0.18849576 0.19325471 0.19966894\n",
      " 0.1988413  0.20153114 0.2007035  0.19925512 0.19180633 0.20028968\n",
      " 0.21125595 0.21249741 0.20691082 0.22056694 0.21146286 0.20546245\n",
      " 0.19490999 0.17877095 0.17877095 0.17090834 0.16201117 0.17049452\n",
      " 0.174012   0.17856404 0.17732257 0.16511484 0.16470101 0.16987378\n",
      " 0.17380509 0.1721498  0.17173598 0.17794331 0.18001241 0.1874612\n",
      " 0.19325471 0.18663356 0.17421891 0.17711566 0.17318436 0.17380509\n",
      " 0.1663563  0.14938961 0.15187254 0.15352783 0.15145872 0.14649286\n",
      " 0.1491827  0.13242293 0.12849162 0.11793917 0.11628388 0.12290503\n",
      " 0.12725016 0.13490586 0.13345748 0.13242293 0.13056073 0.13242293\n",
      " 0.13138837 0.13987172 0.14938961 0.1568384  0.15145872 0.14318229\n",
      " 0.13449203 0.15394165 0.13242293 0.15352783 0.16656321 0.16656321\n",
      " 0.16987378 0.17500049 0.17976718 0.18376744]\n",
      "3 day output [[0.18743084]]\n",
      "4 day input [0.13490586 0.14214773 0.13656114 0.12849162 0.12456031 0.09724809\n",
      " 0.1127664  0.14959652 0.14111318 0.15311401 0.1452514  0.14607904\n",
      " 0.16552866 0.17835713 0.18290917 0.19573764 0.19449617 0.18270226\n",
      " 0.18415063 0.18704738 0.17835713 0.18208152 0.18435754 0.17794331\n",
      " 0.16759777 0.19573764 0.18849576 0.19325471 0.19966894 0.1988413\n",
      " 0.20153114 0.2007035  0.19925512 0.19180633 0.20028968 0.21125595\n",
      " 0.21249741 0.20691082 0.22056694 0.21146286 0.20546245 0.19490999\n",
      " 0.17877095 0.17877095 0.17090834 0.16201117 0.17049452 0.174012\n",
      " 0.17856404 0.17732257 0.16511484 0.16470101 0.16987378 0.17380509\n",
      " 0.1721498  0.17173598 0.17794331 0.18001241 0.1874612  0.19325471\n",
      " 0.18663356 0.17421891 0.17711566 0.17318436 0.17380509 0.1663563\n",
      " 0.14938961 0.15187254 0.15352783 0.15145872 0.14649286 0.1491827\n",
      " 0.13242293 0.12849162 0.11793917 0.11628388 0.12290503 0.12725016\n",
      " 0.13490586 0.13345748 0.13242293 0.13056073 0.13242293 0.13138837\n",
      " 0.13987172 0.14938961 0.1568384  0.15145872 0.14318229 0.13449203\n",
      " 0.15394165 0.13242293 0.15352783 0.16656321 0.16656321 0.16987378\n",
      " 0.17500049 0.17976718 0.18376744 0.18743084]\n",
      "4 day output [[0.1909112]]\n",
      "5 day input [0.14214773 0.13656114 0.12849162 0.12456031 0.09724809 0.1127664\n",
      " 0.14959652 0.14111318 0.15311401 0.1452514  0.14607904 0.16552866\n",
      " 0.17835713 0.18290917 0.19573764 0.19449617 0.18270226 0.18415063\n",
      " 0.18704738 0.17835713 0.18208152 0.18435754 0.17794331 0.16759777\n",
      " 0.19573764 0.18849576 0.19325471 0.19966894 0.1988413  0.20153114\n",
      " 0.2007035  0.19925512 0.19180633 0.20028968 0.21125595 0.21249741\n",
      " 0.20691082 0.22056694 0.21146286 0.20546245 0.19490999 0.17877095\n",
      " 0.17877095 0.17090834 0.16201117 0.17049452 0.174012   0.17856404\n",
      " 0.17732257 0.16511484 0.16470101 0.16987378 0.17380509 0.1721498\n",
      " 0.17173598 0.17794331 0.18001241 0.1874612  0.19325471 0.18663356\n",
      " 0.17421891 0.17711566 0.17318436 0.17380509 0.1663563  0.14938961\n",
      " 0.15187254 0.15352783 0.15145872 0.14649286 0.1491827  0.13242293\n",
      " 0.12849162 0.11793917 0.11628388 0.12290503 0.12725016 0.13490586\n",
      " 0.13345748 0.13242293 0.13056073 0.13242293 0.13138837 0.13987172\n",
      " 0.14938961 0.1568384  0.15145872 0.14318229 0.13449203 0.15394165\n",
      " 0.13242293 0.15352783 0.16656321 0.16656321 0.16987378 0.17500049\n",
      " 0.17976718 0.18376744 0.18743084 0.1909112 ]\n",
      "5 day output [[0.1942653]]\n",
      "6 day input [0.13656114 0.12849162 0.12456031 0.09724809 0.1127664  0.14959652\n",
      " 0.14111318 0.15311401 0.1452514  0.14607904 0.16552866 0.17835713\n",
      " 0.18290917 0.19573764 0.19449617 0.18270226 0.18415063 0.18704738\n",
      " 0.17835713 0.18208152 0.18435754 0.17794331 0.16759777 0.19573764\n",
      " 0.18849576 0.19325471 0.19966894 0.1988413  0.20153114 0.2007035\n",
      " 0.19925512 0.19180633 0.20028968 0.21125595 0.21249741 0.20691082\n",
      " 0.22056694 0.21146286 0.20546245 0.19490999 0.17877095 0.17877095\n",
      " 0.17090834 0.16201117 0.17049452 0.174012   0.17856404 0.17732257\n",
      " 0.16511484 0.16470101 0.16987378 0.17380509 0.1721498  0.17173598\n",
      " 0.17794331 0.18001241 0.1874612  0.19325471 0.18663356 0.17421891\n",
      " 0.17711566 0.17318436 0.17380509 0.1663563  0.14938961 0.15187254\n",
      " 0.15352783 0.15145872 0.14649286 0.1491827  0.13242293 0.12849162\n",
      " 0.11793917 0.11628388 0.12290503 0.12725016 0.13490586 0.13345748\n",
      " 0.13242293 0.13056073 0.13242293 0.13138837 0.13987172 0.14938961\n",
      " 0.1568384  0.15145872 0.14318229 0.13449203 0.15394165 0.13242293\n",
      " 0.15352783 0.16656321 0.16656321 0.16987378 0.17500049 0.17976718\n",
      " 0.18376744 0.18743084 0.1909112  0.19426531]\n",
      "6 day output [[0.19752213]]\n",
      "7 day input [0.12849162 0.12456031 0.09724809 0.1127664  0.14959652 0.14111318\n",
      " 0.15311401 0.1452514  0.14607904 0.16552866 0.17835713 0.18290917\n",
      " 0.19573764 0.19449617 0.18270226 0.18415063 0.18704738 0.17835713\n",
      " 0.18208152 0.18435754 0.17794331 0.16759777 0.19573764 0.18849576\n",
      " 0.19325471 0.19966894 0.1988413  0.20153114 0.2007035  0.19925512\n",
      " 0.19180633 0.20028968 0.21125595 0.21249741 0.20691082 0.22056694\n",
      " 0.21146286 0.20546245 0.19490999 0.17877095 0.17877095 0.17090834\n",
      " 0.16201117 0.17049452 0.174012   0.17856404 0.17732257 0.16511484\n",
      " 0.16470101 0.16987378 0.17380509 0.1721498  0.17173598 0.17794331\n",
      " 0.18001241 0.1874612  0.19325471 0.18663356 0.17421891 0.17711566\n",
      " 0.17318436 0.17380509 0.1663563  0.14938961 0.15187254 0.15352783\n",
      " 0.15145872 0.14649286 0.1491827  0.13242293 0.12849162 0.11793917\n",
      " 0.11628388 0.12290503 0.12725016 0.13490586 0.13345748 0.13242293\n",
      " 0.13056073 0.13242293 0.13138837 0.13987172 0.14938961 0.1568384\n",
      " 0.15145872 0.14318229 0.13449203 0.15394165 0.13242293 0.15352783\n",
      " 0.16656321 0.16656321 0.16987378 0.17500049 0.17976718 0.18376744\n",
      " 0.18743084 0.1909112  0.19426531 0.19752213]\n",
      "7 day output [[0.20069961]]\n",
      "8 day input [0.12456031 0.09724809 0.1127664  0.14959652 0.14111318 0.15311401\n",
      " 0.1452514  0.14607904 0.16552866 0.17835713 0.18290917 0.19573764\n",
      " 0.19449617 0.18270226 0.18415063 0.18704738 0.17835713 0.18208152\n",
      " 0.18435754 0.17794331 0.16759777 0.19573764 0.18849576 0.19325471\n",
      " 0.19966894 0.1988413  0.20153114 0.2007035  0.19925512 0.19180633\n",
      " 0.20028968 0.21125595 0.21249741 0.20691082 0.22056694 0.21146286\n",
      " 0.20546245 0.19490999 0.17877095 0.17877095 0.17090834 0.16201117\n",
      " 0.17049452 0.174012   0.17856404 0.17732257 0.16511484 0.16470101\n",
      " 0.16987378 0.17380509 0.1721498  0.17173598 0.17794331 0.18001241\n",
      " 0.1874612  0.19325471 0.18663356 0.17421891 0.17711566 0.17318436\n",
      " 0.17380509 0.1663563  0.14938961 0.15187254 0.15352783 0.15145872\n",
      " 0.14649286 0.1491827  0.13242293 0.12849162 0.11793917 0.11628388\n",
      " 0.12290503 0.12725016 0.13490586 0.13345748 0.13242293 0.13056073\n",
      " 0.13242293 0.13138837 0.13987172 0.14938961 0.1568384  0.15145872\n",
      " 0.14318229 0.13449203 0.15394165 0.13242293 0.15352783 0.16656321\n",
      " 0.16656321 0.16987378 0.17500049 0.17976718 0.18376744 0.18743084\n",
      " 0.1909112  0.19426531 0.19752213 0.20069961]\n",
      "8 day output [[0.2038087]]\n",
      "9 day input [0.09724809 0.1127664  0.14959652 0.14111318 0.15311401 0.1452514\n",
      " 0.14607904 0.16552866 0.17835713 0.18290917 0.19573764 0.19449617\n",
      " 0.18270226 0.18415063 0.18704738 0.17835713 0.18208152 0.18435754\n",
      " 0.17794331 0.16759777 0.19573764 0.18849576 0.19325471 0.19966894\n",
      " 0.1988413  0.20153114 0.2007035  0.19925512 0.19180633 0.20028968\n",
      " 0.21125595 0.21249741 0.20691082 0.22056694 0.21146286 0.20546245\n",
      " 0.19490999 0.17877095 0.17877095 0.17090834 0.16201117 0.17049452\n",
      " 0.174012   0.17856404 0.17732257 0.16511484 0.16470101 0.16987378\n",
      " 0.17380509 0.1721498  0.17173598 0.17794331 0.18001241 0.1874612\n",
      " 0.19325471 0.18663356 0.17421891 0.17711566 0.17318436 0.17380509\n",
      " 0.1663563  0.14938961 0.15187254 0.15352783 0.15145872 0.14649286\n",
      " 0.1491827  0.13242293 0.12849162 0.11793917 0.11628388 0.12290503\n",
      " 0.12725016 0.13490586 0.13345748 0.13242293 0.13056073 0.13242293\n",
      " 0.13138837 0.13987172 0.14938961 0.1568384  0.15145872 0.14318229\n",
      " 0.13449203 0.15394165 0.13242293 0.15352783 0.16656321 0.16656321\n",
      " 0.16987378 0.17500049 0.17976718 0.18376744 0.18743084 0.1909112\n",
      " 0.19426531 0.19752213 0.20069961 0.2038087 ]\n",
      "9 day output [[0.20685512]]\n",
      "10 day input [0.1127664  0.14959652 0.14111318 0.15311401 0.1452514  0.14607904\n",
      " 0.16552866 0.17835713 0.18290917 0.19573764 0.19449617 0.18270226\n",
      " 0.18415063 0.18704738 0.17835713 0.18208152 0.18435754 0.17794331\n",
      " 0.16759777 0.19573764 0.18849576 0.19325471 0.19966894 0.1988413\n",
      " 0.20153114 0.2007035  0.19925512 0.19180633 0.20028968 0.21125595\n",
      " 0.21249741 0.20691082 0.22056694 0.21146286 0.20546245 0.19490999\n",
      " 0.17877095 0.17877095 0.17090834 0.16201117 0.17049452 0.174012\n",
      " 0.17856404 0.17732257 0.16511484 0.16470101 0.16987378 0.17380509\n",
      " 0.1721498  0.17173598 0.17794331 0.18001241 0.1874612  0.19325471\n",
      " 0.18663356 0.17421891 0.17711566 0.17318436 0.17380509 0.1663563\n",
      " 0.14938961 0.15187254 0.15352783 0.15145872 0.14649286 0.1491827\n",
      " 0.13242293 0.12849162 0.11793917 0.11628388 0.12290503 0.12725016\n",
      " 0.13490586 0.13345748 0.13242293 0.13056073 0.13242293 0.13138837\n",
      " 0.13987172 0.14938961 0.1568384  0.15145872 0.14318229 0.13449203\n",
      " 0.15394165 0.13242293 0.15352783 0.16656321 0.16656321 0.16987378\n",
      " 0.17500049 0.17976718 0.18376744 0.18743084 0.1909112  0.19426531\n",
      " 0.19752213 0.20069961 0.2038087  0.20685512]\n",
      "10 day output [[0.2098414]]\n",
      "11 day input [0.14959652 0.14111318 0.15311401 0.1452514  0.14607904 0.16552866\n",
      " 0.17835713 0.18290917 0.19573764 0.19449617 0.18270226 0.18415063\n",
      " 0.18704738 0.17835713 0.18208152 0.18435754 0.17794331 0.16759777\n",
      " 0.19573764 0.18849576 0.19325471 0.19966894 0.1988413  0.20153114\n",
      " 0.2007035  0.19925512 0.19180633 0.20028968 0.21125595 0.21249741\n",
      " 0.20691082 0.22056694 0.21146286 0.20546245 0.19490999 0.17877095\n",
      " 0.17877095 0.17090834 0.16201117 0.17049452 0.174012   0.17856404\n",
      " 0.17732257 0.16511484 0.16470101 0.16987378 0.17380509 0.1721498\n",
      " 0.17173598 0.17794331 0.18001241 0.1874612  0.19325471 0.18663356\n",
      " 0.17421891 0.17711566 0.17318436 0.17380509 0.1663563  0.14938961\n",
      " 0.15187254 0.15352783 0.15145872 0.14649286 0.1491827  0.13242293\n",
      " 0.12849162 0.11793917 0.11628388 0.12290503 0.12725016 0.13490586\n",
      " 0.13345748 0.13242293 0.13056073 0.13242293 0.13138837 0.13987172\n",
      " 0.14938961 0.1568384  0.15145872 0.14318229 0.13449203 0.15394165\n",
      " 0.13242293 0.15352783 0.16656321 0.16656321 0.16987378 0.17500049\n",
      " 0.17976718 0.18376744 0.18743084 0.1909112  0.19426531 0.19752213\n",
      " 0.20069961 0.2038087  0.20685512 0.2098414 ]\n",
      "11 day output [[0.21276902]]\n",
      "12 day input [0.14111318 0.15311401 0.1452514  0.14607904 0.16552866 0.17835713\n",
      " 0.18290917 0.19573764 0.19449617 0.18270226 0.18415063 0.18704738\n",
      " 0.17835713 0.18208152 0.18435754 0.17794331 0.16759777 0.19573764\n",
      " 0.18849576 0.19325471 0.19966894 0.1988413  0.20153114 0.2007035\n",
      " 0.19925512 0.19180633 0.20028968 0.21125595 0.21249741 0.20691082\n",
      " 0.22056694 0.21146286 0.20546245 0.19490999 0.17877095 0.17877095\n",
      " 0.17090834 0.16201117 0.17049452 0.174012   0.17856404 0.17732257\n",
      " 0.16511484 0.16470101 0.16987378 0.17380509 0.1721498  0.17173598\n",
      " 0.17794331 0.18001241 0.1874612  0.19325471 0.18663356 0.17421891\n",
      " 0.17711566 0.17318436 0.17380509 0.1663563  0.14938961 0.15187254\n",
      " 0.15352783 0.15145872 0.14649286 0.1491827  0.13242293 0.12849162\n",
      " 0.11793917 0.11628388 0.12290503 0.12725016 0.13490586 0.13345748\n",
      " 0.13242293 0.13056073 0.13242293 0.13138837 0.13987172 0.14938961\n",
      " 0.1568384  0.15145872 0.14318229 0.13449203 0.15394165 0.13242293\n",
      " 0.15352783 0.16656321 0.16656321 0.16987378 0.17500049 0.17976718\n",
      " 0.18376744 0.18743084 0.1909112  0.19426531 0.19752213 0.20069961\n",
      " 0.2038087  0.20685512 0.2098414  0.21276902]\n",
      "12 day output [[0.21563973]]\n",
      "13 day input [0.15311401 0.1452514  0.14607904 0.16552866 0.17835713 0.18290917\n",
      " 0.19573764 0.19449617 0.18270226 0.18415063 0.18704738 0.17835713\n",
      " 0.18208152 0.18435754 0.17794331 0.16759777 0.19573764 0.18849576\n",
      " 0.19325471 0.19966894 0.1988413  0.20153114 0.2007035  0.19925512\n",
      " 0.19180633 0.20028968 0.21125595 0.21249741 0.20691082 0.22056694\n",
      " 0.21146286 0.20546245 0.19490999 0.17877095 0.17877095 0.17090834\n",
      " 0.16201117 0.17049452 0.174012   0.17856404 0.17732257 0.16511484\n",
      " 0.16470101 0.16987378 0.17380509 0.1721498  0.17173598 0.17794331\n",
      " 0.18001241 0.1874612  0.19325471 0.18663356 0.17421891 0.17711566\n",
      " 0.17318436 0.17380509 0.1663563  0.14938961 0.15187254 0.15352783\n",
      " 0.15145872 0.14649286 0.1491827  0.13242293 0.12849162 0.11793917\n",
      " 0.11628388 0.12290503 0.12725016 0.13490586 0.13345748 0.13242293\n",
      " 0.13056073 0.13242293 0.13138837 0.13987172 0.14938961 0.1568384\n",
      " 0.15145872 0.14318229 0.13449203 0.15394165 0.13242293 0.15352783\n",
      " 0.16656321 0.16656321 0.16987378 0.17500049 0.17976718 0.18376744\n",
      " 0.18743084 0.1909112  0.19426531 0.19752213 0.20069961 0.2038087\n",
      " 0.20685512 0.2098414  0.21276902 0.21563973]\n",
      "13 day output [[0.21845631]]\n",
      "14 day input [0.1452514  0.14607904 0.16552866 0.17835713 0.18290917 0.19573764\n",
      " 0.19449617 0.18270226 0.18415063 0.18704738 0.17835713 0.18208152\n",
      " 0.18435754 0.17794331 0.16759777 0.19573764 0.18849576 0.19325471\n",
      " 0.19966894 0.1988413  0.20153114 0.2007035  0.19925512 0.19180633\n",
      " 0.20028968 0.21125595 0.21249741 0.20691082 0.22056694 0.21146286\n",
      " 0.20546245 0.19490999 0.17877095 0.17877095 0.17090834 0.16201117\n",
      " 0.17049452 0.174012   0.17856404 0.17732257 0.16511484 0.16470101\n",
      " 0.16987378 0.17380509 0.1721498  0.17173598 0.17794331 0.18001241\n",
      " 0.1874612  0.19325471 0.18663356 0.17421891 0.17711566 0.17318436\n",
      " 0.17380509 0.1663563  0.14938961 0.15187254 0.15352783 0.15145872\n",
      " 0.14649286 0.1491827  0.13242293 0.12849162 0.11793917 0.11628388\n",
      " 0.12290503 0.12725016 0.13490586 0.13345748 0.13242293 0.13056073\n",
      " 0.13242293 0.13138837 0.13987172 0.14938961 0.1568384  0.15145872\n",
      " 0.14318229 0.13449203 0.15394165 0.13242293 0.15352783 0.16656321\n",
      " 0.16656321 0.16987378 0.17500049 0.17976718 0.18376744 0.18743084\n",
      " 0.1909112  0.19426531 0.19752213 0.20069961 0.2038087  0.20685512\n",
      " 0.2098414  0.21276902 0.21563973 0.21845631]\n",
      "14 day output [[0.22122294]]\n",
      "15 day input [0.14607904 0.16552866 0.17835713 0.18290917 0.19573764 0.19449617\n",
      " 0.18270226 0.18415063 0.18704738 0.17835713 0.18208152 0.18435754\n",
      " 0.17794331 0.16759777 0.19573764 0.18849576 0.19325471 0.19966894\n",
      " 0.1988413  0.20153114 0.2007035  0.19925512 0.19180633 0.20028968\n",
      " 0.21125595 0.21249741 0.20691082 0.22056694 0.21146286 0.20546245\n",
      " 0.19490999 0.17877095 0.17877095 0.17090834 0.16201117 0.17049452\n",
      " 0.174012   0.17856404 0.17732257 0.16511484 0.16470101 0.16987378\n",
      " 0.17380509 0.1721498  0.17173598 0.17794331 0.18001241 0.1874612\n",
      " 0.19325471 0.18663356 0.17421891 0.17711566 0.17318436 0.17380509\n",
      " 0.1663563  0.14938961 0.15187254 0.15352783 0.15145872 0.14649286\n",
      " 0.1491827  0.13242293 0.12849162 0.11793917 0.11628388 0.12290503\n",
      " 0.12725016 0.13490586 0.13345748 0.13242293 0.13056073 0.13242293\n",
      " 0.13138837 0.13987172 0.14938961 0.1568384  0.15145872 0.14318229\n",
      " 0.13449203 0.15394165 0.13242293 0.15352783 0.16656321 0.16656321\n",
      " 0.16987378 0.17500049 0.17976718 0.18376744 0.18743084 0.1909112\n",
      " 0.19426531 0.19752213 0.20069961 0.2038087  0.20685512 0.2098414\n",
      " 0.21276902 0.21563973 0.21845631 0.22122294]\n",
      "15 day output [[0.22394492]]\n",
      "16 day input [0.16552866 0.17835713 0.18290917 0.19573764 0.19449617 0.18270226\n",
      " 0.18415063 0.18704738 0.17835713 0.18208152 0.18435754 0.17794331\n",
      " 0.16759777 0.19573764 0.18849576 0.19325471 0.19966894 0.1988413\n",
      " 0.20153114 0.2007035  0.19925512 0.19180633 0.20028968 0.21125595\n",
      " 0.21249741 0.20691082 0.22056694 0.21146286 0.20546245 0.19490999\n",
      " 0.17877095 0.17877095 0.17090834 0.16201117 0.17049452 0.174012\n",
      " 0.17856404 0.17732257 0.16511484 0.16470101 0.16987378 0.17380509\n",
      " 0.1721498  0.17173598 0.17794331 0.18001241 0.1874612  0.19325471\n",
      " 0.18663356 0.17421891 0.17711566 0.17318436 0.17380509 0.1663563\n",
      " 0.14938961 0.15187254 0.15352783 0.15145872 0.14649286 0.1491827\n",
      " 0.13242293 0.12849162 0.11793917 0.11628388 0.12290503 0.12725016\n",
      " 0.13490586 0.13345748 0.13242293 0.13056073 0.13242293 0.13138837\n",
      " 0.13987172 0.14938961 0.1568384  0.15145872 0.14318229 0.13449203\n",
      " 0.15394165 0.13242293 0.15352783 0.16656321 0.16656321 0.16987378\n",
      " 0.17500049 0.17976718 0.18376744 0.18743084 0.1909112  0.19426531\n",
      " 0.19752213 0.20069961 0.2038087  0.20685512 0.2098414  0.21276902\n",
      " 0.21563973 0.21845631 0.22122294 0.22394492]\n",
      "16 day output [[0.22662847]]\n",
      "17 day input [0.17835713 0.18290917 0.19573764 0.19449617 0.18270226 0.18415063\n",
      " 0.18704738 0.17835713 0.18208152 0.18435754 0.17794331 0.16759777\n",
      " 0.19573764 0.18849576 0.19325471 0.19966894 0.1988413  0.20153114\n",
      " 0.2007035  0.19925512 0.19180633 0.20028968 0.21125595 0.21249741\n",
      " 0.20691082 0.22056694 0.21146286 0.20546245 0.19490999 0.17877095\n",
      " 0.17877095 0.17090834 0.16201117 0.17049452 0.174012   0.17856404\n",
      " 0.17732257 0.16511484 0.16470101 0.16987378 0.17380509 0.1721498\n",
      " 0.17173598 0.17794331 0.18001241 0.1874612  0.19325471 0.18663356\n",
      " 0.17421891 0.17711566 0.17318436 0.17380509 0.1663563  0.14938961\n",
      " 0.15187254 0.15352783 0.15145872 0.14649286 0.1491827  0.13242293\n",
      " 0.12849162 0.11793917 0.11628388 0.12290503 0.12725016 0.13490586\n",
      " 0.13345748 0.13242293 0.13056073 0.13242293 0.13138837 0.13987172\n",
      " 0.14938961 0.1568384  0.15145872 0.14318229 0.13449203 0.15394165\n",
      " 0.13242293 0.15352783 0.16656321 0.16656321 0.16987378 0.17500049\n",
      " 0.17976718 0.18376744 0.18743084 0.1909112  0.19426531 0.19752213\n",
      " 0.20069961 0.2038087  0.20685512 0.2098414  0.21276902 0.21563973\n",
      " 0.21845631 0.22122294 0.22394492 0.22662847]\n",
      "17 day output [[0.22928023]]\n",
      "18 day input [0.18290917 0.19573764 0.19449617 0.18270226 0.18415063 0.18704738\n",
      " 0.17835713 0.18208152 0.18435754 0.17794331 0.16759777 0.19573764\n",
      " 0.18849576 0.19325471 0.19966894 0.1988413  0.20153114 0.2007035\n",
      " 0.19925512 0.19180633 0.20028968 0.21125595 0.21249741 0.20691082\n",
      " 0.22056694 0.21146286 0.20546245 0.19490999 0.17877095 0.17877095\n",
      " 0.17090834 0.16201117 0.17049452 0.174012   0.17856404 0.17732257\n",
      " 0.16511484 0.16470101 0.16987378 0.17380509 0.1721498  0.17173598\n",
      " 0.17794331 0.18001241 0.1874612  0.19325471 0.18663356 0.17421891\n",
      " 0.17711566 0.17318436 0.17380509 0.1663563  0.14938961 0.15187254\n",
      " 0.15352783 0.15145872 0.14649286 0.1491827  0.13242293 0.12849162\n",
      " 0.11793917 0.11628388 0.12290503 0.12725016 0.13490586 0.13345748\n",
      " 0.13242293 0.13056073 0.13242293 0.13138837 0.13987172 0.14938961\n",
      " 0.1568384  0.15145872 0.14318229 0.13449203 0.15394165 0.13242293\n",
      " 0.15352783 0.16656321 0.16656321 0.16987378 0.17500049 0.17976718\n",
      " 0.18376744 0.18743084 0.1909112  0.19426531 0.19752213 0.20069961\n",
      " 0.2038087  0.20685512 0.2098414  0.21276902 0.21563973 0.21845631\n",
      " 0.22122294 0.22394492 0.22662847 0.22928023]\n",
      "18 day output [[0.23190697]]\n",
      "19 day input [0.19573764 0.19449617 0.18270226 0.18415063 0.18704738 0.17835713\n",
      " 0.18208152 0.18435754 0.17794331 0.16759777 0.19573764 0.18849576\n",
      " 0.19325471 0.19966894 0.1988413  0.20153114 0.2007035  0.19925512\n",
      " 0.19180633 0.20028968 0.21125595 0.21249741 0.20691082 0.22056694\n",
      " 0.21146286 0.20546245 0.19490999 0.17877095 0.17877095 0.17090834\n",
      " 0.16201117 0.17049452 0.174012   0.17856404 0.17732257 0.16511484\n",
      " 0.16470101 0.16987378 0.17380509 0.1721498  0.17173598 0.17794331\n",
      " 0.18001241 0.1874612  0.19325471 0.18663356 0.17421891 0.17711566\n",
      " 0.17318436 0.17380509 0.1663563  0.14938961 0.15187254 0.15352783\n",
      " 0.15145872 0.14649286 0.1491827  0.13242293 0.12849162 0.11793917\n",
      " 0.11628388 0.12290503 0.12725016 0.13490586 0.13345748 0.13242293\n",
      " 0.13056073 0.13242293 0.13138837 0.13987172 0.14938961 0.1568384\n",
      " 0.15145872 0.14318229 0.13449203 0.15394165 0.13242293 0.15352783\n",
      " 0.16656321 0.16656321 0.16987378 0.17500049 0.17976718 0.18376744\n",
      " 0.18743084 0.1909112  0.19426531 0.19752213 0.20069961 0.2038087\n",
      " 0.20685512 0.2098414  0.21276902 0.21563973 0.21845631 0.22122294\n",
      " 0.22394492 0.22662847 0.22928023 0.23190697]\n",
      "19 day output [[0.23451497]]\n",
      "20 day input [0.19449617 0.18270226 0.18415063 0.18704738 0.17835713 0.18208152\n",
      " 0.18435754 0.17794331 0.16759777 0.19573764 0.18849576 0.19325471\n",
      " 0.19966894 0.1988413  0.20153114 0.2007035  0.19925512 0.19180633\n",
      " 0.20028968 0.21125595 0.21249741 0.20691082 0.22056694 0.21146286\n",
      " 0.20546245 0.19490999 0.17877095 0.17877095 0.17090834 0.16201117\n",
      " 0.17049452 0.174012   0.17856404 0.17732257 0.16511484 0.16470101\n",
      " 0.16987378 0.17380509 0.1721498  0.17173598 0.17794331 0.18001241\n",
      " 0.1874612  0.19325471 0.18663356 0.17421891 0.17711566 0.17318436\n",
      " 0.17380509 0.1663563  0.14938961 0.15187254 0.15352783 0.15145872\n",
      " 0.14649286 0.1491827  0.13242293 0.12849162 0.11793917 0.11628388\n",
      " 0.12290503 0.12725016 0.13490586 0.13345748 0.13242293 0.13056073\n",
      " 0.13242293 0.13138837 0.13987172 0.14938961 0.1568384  0.15145872\n",
      " 0.14318229 0.13449203 0.15394165 0.13242293 0.15352783 0.16656321\n",
      " 0.16656321 0.16987378 0.17500049 0.17976718 0.18376744 0.18743084\n",
      " 0.1909112  0.19426531 0.19752213 0.20069961 0.2038087  0.20685512\n",
      " 0.2098414  0.21276902 0.21563973 0.21845631 0.22122294 0.22394492\n",
      " 0.22662847 0.22928023 0.23190697 0.23451497]\n",
      "20 day output [[0.23711018]]\n",
      "21 day input [0.18270226 0.18415063 0.18704738 0.17835713 0.18208152 0.18435754\n",
      " 0.17794331 0.16759777 0.19573764 0.18849576 0.19325471 0.19966894\n",
      " 0.1988413  0.20153114 0.2007035  0.19925512 0.19180633 0.20028968\n",
      " 0.21125595 0.21249741 0.20691082 0.22056694 0.21146286 0.20546245\n",
      " 0.19490999 0.17877095 0.17877095 0.17090834 0.16201117 0.17049452\n",
      " 0.174012   0.17856404 0.17732257 0.16511484 0.16470101 0.16987378\n",
      " 0.17380509 0.1721498  0.17173598 0.17794331 0.18001241 0.1874612\n",
      " 0.19325471 0.18663356 0.17421891 0.17711566 0.17318436 0.17380509\n",
      " 0.1663563  0.14938961 0.15187254 0.15352783 0.15145872 0.14649286\n",
      " 0.1491827  0.13242293 0.12849162 0.11793917 0.11628388 0.12290503\n",
      " 0.12725016 0.13490586 0.13345748 0.13242293 0.13056073 0.13242293\n",
      " 0.13138837 0.13987172 0.14938961 0.1568384  0.15145872 0.14318229\n",
      " 0.13449203 0.15394165 0.13242293 0.15352783 0.16656321 0.16656321\n",
      " 0.16987378 0.17500049 0.17976718 0.18376744 0.18743084 0.1909112\n",
      " 0.19426531 0.19752213 0.20069961 0.2038087  0.20685512 0.2098414\n",
      " 0.21276902 0.21563973 0.21845631 0.22122294 0.22394492 0.22662847\n",
      " 0.22928023 0.23190697 0.23451497 0.23711018]\n",
      "21 day output [[0.23969755]]\n",
      "22 day input [0.18415063 0.18704738 0.17835713 0.18208152 0.18435754 0.17794331\n",
      " 0.16759777 0.19573764 0.18849576 0.19325471 0.19966894 0.1988413\n",
      " 0.20153114 0.2007035  0.19925512 0.19180633 0.20028968 0.21125595\n",
      " 0.21249741 0.20691082 0.22056694 0.21146286 0.20546245 0.19490999\n",
      " 0.17877095 0.17877095 0.17090834 0.16201117 0.17049452 0.174012\n",
      " 0.17856404 0.17732257 0.16511484 0.16470101 0.16987378 0.17380509\n",
      " 0.1721498  0.17173598 0.17794331 0.18001241 0.1874612  0.19325471\n",
      " 0.18663356 0.17421891 0.17711566 0.17318436 0.17380509 0.1663563\n",
      " 0.14938961 0.15187254 0.15352783 0.15145872 0.14649286 0.1491827\n",
      " 0.13242293 0.12849162 0.11793917 0.11628388 0.12290503 0.12725016\n",
      " 0.13490586 0.13345748 0.13242293 0.13056073 0.13242293 0.13138837\n",
      " 0.13987172 0.14938961 0.1568384  0.15145872 0.14318229 0.13449203\n",
      " 0.15394165 0.13242293 0.15352783 0.16656321 0.16656321 0.16987378\n",
      " 0.17500049 0.17976718 0.18376744 0.18743084 0.1909112  0.19426531\n",
      " 0.19752213 0.20069961 0.2038087  0.20685512 0.2098414  0.21276902\n",
      " 0.21563973 0.21845631 0.22122294 0.22394492 0.22662847 0.22928023\n",
      " 0.23190697 0.23451497 0.23711018 0.23969755]\n",
      "22 day output [[0.24228124]]\n",
      "23 day input [0.18704738 0.17835713 0.18208152 0.18435754 0.17794331 0.16759777\n",
      " 0.19573764 0.18849576 0.19325471 0.19966894 0.1988413  0.20153114\n",
      " 0.2007035  0.19925512 0.19180633 0.20028968 0.21125595 0.21249741\n",
      " 0.20691082 0.22056694 0.21146286 0.20546245 0.19490999 0.17877095\n",
      " 0.17877095 0.17090834 0.16201117 0.17049452 0.174012   0.17856404\n",
      " 0.17732257 0.16511484 0.16470101 0.16987378 0.17380509 0.1721498\n",
      " 0.17173598 0.17794331 0.18001241 0.1874612  0.19325471 0.18663356\n",
      " 0.17421891 0.17711566 0.17318436 0.17380509 0.1663563  0.14938961\n",
      " 0.15187254 0.15352783 0.15145872 0.14649286 0.1491827  0.13242293\n",
      " 0.12849162 0.11793917 0.11628388 0.12290503 0.12725016 0.13490586\n",
      " 0.13345748 0.13242293 0.13056073 0.13242293 0.13138837 0.13987172\n",
      " 0.14938961 0.1568384  0.15145872 0.14318229 0.13449203 0.15394165\n",
      " 0.13242293 0.15352783 0.16656321 0.16656321 0.16987378 0.17500049\n",
      " 0.17976718 0.18376744 0.18743084 0.1909112  0.19426531 0.19752213\n",
      " 0.20069961 0.2038087  0.20685512 0.2098414  0.21276902 0.21563973\n",
      " 0.21845631 0.22122294 0.22394492 0.22662847 0.22928023 0.23190697\n",
      " 0.23451497 0.23711018 0.23969755 0.24228124]\n",
      "23 day output [[0.24486463]]\n",
      "24 day input [0.17835713 0.18208152 0.18435754 0.17794331 0.16759777 0.19573764\n",
      " 0.18849576 0.19325471 0.19966894 0.1988413  0.20153114 0.2007035\n",
      " 0.19925512 0.19180633 0.20028968 0.21125595 0.21249741 0.20691082\n",
      " 0.22056694 0.21146286 0.20546245 0.19490999 0.17877095 0.17877095\n",
      " 0.17090834 0.16201117 0.17049452 0.174012   0.17856404 0.17732257\n",
      " 0.16511484 0.16470101 0.16987378 0.17380509 0.1721498  0.17173598\n",
      " 0.17794331 0.18001241 0.1874612  0.19325471 0.18663356 0.17421891\n",
      " 0.17711566 0.17318436 0.17380509 0.1663563  0.14938961 0.15187254\n",
      " 0.15352783 0.15145872 0.14649286 0.1491827  0.13242293 0.12849162\n",
      " 0.11793917 0.11628388 0.12290503 0.12725016 0.13490586 0.13345748\n",
      " 0.13242293 0.13056073 0.13242293 0.13138837 0.13987172 0.14938961\n",
      " 0.1568384  0.15145872 0.14318229 0.13449203 0.15394165 0.13242293\n",
      " 0.15352783 0.16656321 0.16656321 0.16987378 0.17500049 0.17976718\n",
      " 0.18376744 0.18743084 0.1909112  0.19426531 0.19752213 0.20069961\n",
      " 0.2038087  0.20685512 0.2098414  0.21276902 0.21563973 0.21845631\n",
      " 0.22122294 0.22394492 0.22662847 0.22928023 0.23190697 0.23451497\n",
      " 0.23711018 0.23969755 0.24228124 0.24486463]\n",
      "24 day output [[0.2474502]]\n",
      "25 day input [0.18208152 0.18435754 0.17794331 0.16759777 0.19573764 0.18849576\n",
      " 0.19325471 0.19966894 0.1988413  0.20153114 0.2007035  0.19925512\n",
      " 0.19180633 0.20028968 0.21125595 0.21249741 0.20691082 0.22056694\n",
      " 0.21146286 0.20546245 0.19490999 0.17877095 0.17877095 0.17090834\n",
      " 0.16201117 0.17049452 0.174012   0.17856404 0.17732257 0.16511484\n",
      " 0.16470101 0.16987378 0.17380509 0.1721498  0.17173598 0.17794331\n",
      " 0.18001241 0.1874612  0.19325471 0.18663356 0.17421891 0.17711566\n",
      " 0.17318436 0.17380509 0.1663563  0.14938961 0.15187254 0.15352783\n",
      " 0.15145872 0.14649286 0.1491827  0.13242293 0.12849162 0.11793917\n",
      " 0.11628388 0.12290503 0.12725016 0.13490586 0.13345748 0.13242293\n",
      " 0.13056073 0.13242293 0.13138837 0.13987172 0.14938961 0.1568384\n",
      " 0.15145872 0.14318229 0.13449203 0.15394165 0.13242293 0.15352783\n",
      " 0.16656321 0.16656321 0.16987378 0.17500049 0.17976718 0.18376744\n",
      " 0.18743084 0.1909112  0.19426531 0.19752213 0.20069961 0.2038087\n",
      " 0.20685512 0.2098414  0.21276902 0.21563973 0.21845631 0.22122294\n",
      " 0.22394492 0.22662847 0.22928023 0.23190697 0.23451497 0.23711018\n",
      " 0.23969755 0.24228124 0.24486463 0.2474502 ]\n",
      "25 day output [[0.2500397]]\n",
      "26 day input [0.18435754 0.17794331 0.16759777 0.19573764 0.18849576 0.19325471\n",
      " 0.19966894 0.1988413  0.20153114 0.2007035  0.19925512 0.19180633\n",
      " 0.20028968 0.21125595 0.21249741 0.20691082 0.22056694 0.21146286\n",
      " 0.20546245 0.19490999 0.17877095 0.17877095 0.17090834 0.16201117\n",
      " 0.17049452 0.174012   0.17856404 0.17732257 0.16511484 0.16470101\n",
      " 0.16987378 0.17380509 0.1721498  0.17173598 0.17794331 0.18001241\n",
      " 0.1874612  0.19325471 0.18663356 0.17421891 0.17711566 0.17318436\n",
      " 0.17380509 0.1663563  0.14938961 0.15187254 0.15352783 0.15145872\n",
      " 0.14649286 0.1491827  0.13242293 0.12849162 0.11793917 0.11628388\n",
      " 0.12290503 0.12725016 0.13490586 0.13345748 0.13242293 0.13056073\n",
      " 0.13242293 0.13138837 0.13987172 0.14938961 0.1568384  0.15145872\n",
      " 0.14318229 0.13449203 0.15394165 0.13242293 0.15352783 0.16656321\n",
      " 0.16656321 0.16987378 0.17500049 0.17976718 0.18376744 0.18743084\n",
      " 0.1909112  0.19426531 0.19752213 0.20069961 0.2038087  0.20685512\n",
      " 0.2098414  0.21276902 0.21563973 0.21845631 0.22122294 0.22394492\n",
      " 0.22662847 0.22928023 0.23190697 0.23451497 0.23711018 0.23969755\n",
      " 0.24228124 0.24486463 0.2474502  0.2500397 ]\n",
      "26 day output [[0.25263435]]\n",
      "27 day input [0.17794331 0.16759777 0.19573764 0.18849576 0.19325471 0.19966894\n",
      " 0.1988413  0.20153114 0.2007035  0.19925512 0.19180633 0.20028968\n",
      " 0.21125595 0.21249741 0.20691082 0.22056694 0.21146286 0.20546245\n",
      " 0.19490999 0.17877095 0.17877095 0.17090834 0.16201117 0.17049452\n",
      " 0.174012   0.17856404 0.17732257 0.16511484 0.16470101 0.16987378\n",
      " 0.17380509 0.1721498  0.17173598 0.17794331 0.18001241 0.1874612\n",
      " 0.19325471 0.18663356 0.17421891 0.17711566 0.17318436 0.17380509\n",
      " 0.1663563  0.14938961 0.15187254 0.15352783 0.15145872 0.14649286\n",
      " 0.1491827  0.13242293 0.12849162 0.11793917 0.11628388 0.12290503\n",
      " 0.12725016 0.13490586 0.13345748 0.13242293 0.13056073 0.13242293\n",
      " 0.13138837 0.13987172 0.14938961 0.1568384  0.15145872 0.14318229\n",
      " 0.13449203 0.15394165 0.13242293 0.15352783 0.16656321 0.16656321\n",
      " 0.16987378 0.17500049 0.17976718 0.18376744 0.18743084 0.1909112\n",
      " 0.19426531 0.19752213 0.20069961 0.2038087  0.20685512 0.2098414\n",
      " 0.21276902 0.21563973 0.21845631 0.22122294 0.22394492 0.22662847\n",
      " 0.22928023 0.23190697 0.23451497 0.23711018 0.23969755 0.24228124\n",
      " 0.24486463 0.2474502  0.2500397  0.25263435]\n",
      "27 day output [[0.25523457]]\n",
      "28 day input [0.16759777 0.19573764 0.18849576 0.19325471 0.19966894 0.1988413\n",
      " 0.20153114 0.2007035  0.19925512 0.19180633 0.20028968 0.21125595\n",
      " 0.21249741 0.20691082 0.22056694 0.21146286 0.20546245 0.19490999\n",
      " 0.17877095 0.17877095 0.17090834 0.16201117 0.17049452 0.174012\n",
      " 0.17856404 0.17732257 0.16511484 0.16470101 0.16987378 0.17380509\n",
      " 0.1721498  0.17173598 0.17794331 0.18001241 0.1874612  0.19325471\n",
      " 0.18663356 0.17421891 0.17711566 0.17318436 0.17380509 0.1663563\n",
      " 0.14938961 0.15187254 0.15352783 0.15145872 0.14649286 0.1491827\n",
      " 0.13242293 0.12849162 0.11793917 0.11628388 0.12290503 0.12725016\n",
      " 0.13490586 0.13345748 0.13242293 0.13056073 0.13242293 0.13138837\n",
      " 0.13987172 0.14938961 0.1568384  0.15145872 0.14318229 0.13449203\n",
      " 0.15394165 0.13242293 0.15352783 0.16656321 0.16656321 0.16987378\n",
      " 0.17500049 0.17976718 0.18376744 0.18743084 0.1909112  0.19426531\n",
      " 0.19752213 0.20069961 0.2038087  0.20685512 0.2098414  0.21276902\n",
      " 0.21563973 0.21845631 0.22122294 0.22394492 0.22662847 0.22928023\n",
      " 0.23190697 0.23451497 0.23711018 0.23969755 0.24228124 0.24486463\n",
      " 0.2474502  0.2500397  0.25263435 0.25523457]\n",
      "28 day output [[0.25784072]]\n",
      "29 day input [0.19573764 0.18849576 0.19325471 0.19966894 0.1988413  0.20153114\n",
      " 0.2007035  0.19925512 0.19180633 0.20028968 0.21125595 0.21249741\n",
      " 0.20691082 0.22056694 0.21146286 0.20546245 0.19490999 0.17877095\n",
      " 0.17877095 0.17090834 0.16201117 0.17049452 0.174012   0.17856404\n",
      " 0.17732257 0.16511484 0.16470101 0.16987378 0.17380509 0.1721498\n",
      " 0.17173598 0.17794331 0.18001241 0.1874612  0.19325471 0.18663356\n",
      " 0.17421891 0.17711566 0.17318436 0.17380509 0.1663563  0.14938961\n",
      " 0.15187254 0.15352783 0.15145872 0.14649286 0.1491827  0.13242293\n",
      " 0.12849162 0.11793917 0.11628388 0.12290503 0.12725016 0.13490586\n",
      " 0.13345748 0.13242293 0.13056073 0.13242293 0.13138837 0.13987172\n",
      " 0.14938961 0.1568384  0.15145872 0.14318229 0.13449203 0.15394165\n",
      " 0.13242293 0.15352783 0.16656321 0.16656321 0.16987378 0.17500049\n",
      " 0.17976718 0.18376744 0.18743084 0.1909112  0.19426531 0.19752213\n",
      " 0.20069961 0.2038087  0.20685512 0.2098414  0.21276902 0.21563973\n",
      " 0.21845631 0.22122294 0.22394492 0.22662847 0.22928023 0.23190697\n",
      " 0.23451497 0.23711018 0.23969755 0.24228124 0.24486463 0.2474502\n",
      " 0.2500397  0.25263435 0.25523457 0.25784072]\n",
      "29 day output [[0.26045245]]\n",
      "[[0.17500048875808716], [0.1797671765089035], [0.1837674379348755], [0.18743084371089935], [0.190911203622818], [0.19426530599594116], [0.1975221335887909], [0.2006996124982834], [0.20380869507789612], [0.20685511827468872], [0.20984140038490295], [0.212769016623497], [0.21563972532749176], [0.21845631301403046], [0.22122293710708618], [0.22394491732120514], [0.22662846744060516], [0.2292802333831787], [0.2319069653749466], [0.2345149666070938], [0.2371101826429367], [0.23969754576683044], [0.2422812432050705], [0.24486462771892548], [0.24745020270347595], [0.2500396966934204], [0.25263434648513794], [0.25523456931114197], [0.25784072279930115], [0.2604524493217468]]\n"
     ]
    }
   ],
   "source": [
    "\n",
    "from numpy import array\n",
    "\n",
    "lst_output=[]\n",
    "n_steps=100\n",
    "nextNumberOfDays=30\n",
    "i=0\n",
    "\n",
    "while(i<nextNumberOfDays):\n",
    "    \n",
    "    if(len(temp_input)>100):\n",
    "        #print(temp_input)\n",
    "        x_input=np.array(temp_input[1:])\n",
    "        print(\"{} day input {}\".format(i,x_input))\n",
    "        x_input=x_input.reshape(1,-1)\n",
    "        x_input = x_input.reshape((1, n_steps, 1))\n",
    "        #print(x_input)\n",
    "        yhat = model.predict(x_input, verbose=0)\n",
    "        print(\"{} day output {}\".format(i,yhat))\n",
    "        temp_input.extend(yhat[0].tolist())\n",
    "        temp_input=temp_input[1:]\n",
    "        #print(temp_input)\n",
    "        lst_output.extend(yhat.tolist())\n",
    "        i=i+1\n",
    "    else:\n",
    "        x_input = x_input.reshape((1, n_steps,1))\n",
    "        yhat = model.predict(x_input, verbose=0)\n",
    "        print(yhat[0])\n",
    "        temp_input.extend(yhat[0].tolist())\n",
    "        print(len(temp_input))\n",
    "        lst_output.extend(yhat.tolist())\n",
    "        i=i+1\n",
    "print(lst_output)"
   ]
  },
  {
   "cell_type": "code",
   "execution_count": null,
   "id": "izGwqDnOzoRi",
   "metadata": {
    "id": "izGwqDnOzoRi"
   },
   "outputs": [],
   "source": [
    "day_new=np.arange(1,101)\n",
    "day_pred=np.arange(101,131)"
   ]
  },
  {
   "cell_type": "code",
   "execution_count": null,
   "id": "jkEgEH_lzywX",
   "metadata": {
    "id": "jkEgEH_lzywX"
   },
   "outputs": [],
   "source": [
    "import matplotlib.pyplot as plt"
   ]
  },
  {
   "cell_type": "code",
   "execution_count": null,
   "id": "LLvS4HQiz0VY",
   "metadata": {
    "colab": {
     "base_uri": "https://localhost:8080/"
    },
    "id": "LLvS4HQiz0VY",
    "outputId": "cda02233-e638-479e-85a4-8d744be9f320"
   },
   "outputs": [
    {
     "data": {
      "text/plain": [
       "2035"
      ]
     },
     "execution_count": 46,
     "metadata": {},
     "output_type": "execute_result"
    }
   ],
   "source": [
    "len(df_low)"
   ]
  },
  {
   "cell_type": "code",
   "execution_count": null,
   "id": "E-PdEcqAz18G",
   "metadata": {
    "colab": {
     "base_uri": "https://localhost:8080/",
     "height": 265
    },
    "id": "E-PdEcqAz18G",
    "outputId": "b33bfbfe-4960-4049-9a49-7a4456066aa3"
   },
   "outputs": [
    {
     "data": {
      "image/png": "[encoded data removed]",
      "text/plain": [
       "<Figure size 432x288 with 1 Axes>"
      ]
     },
     "metadata": {
      "needs_background": "light"
     },
     "output_type": "display_data"
    }
   ],
   "source": [
    "plt.plot(day_new,scaler.inverse_transform(df_low[1935:]))\n",
    "plt.plot(day_pred,scaler.inverse_transform(lst_output))\n",
    "plt.show()"
   ]
  },
  {
   "cell_type": "code",
   "execution_count": null,
   "id": "IELEE5Haz6u5",
   "metadata": {
    "colab": {
     "base_uri": "https://localhost:8080/",
     "height": 265
    },
    "id": "IELEE5Haz6u5",
    "outputId": "e0b508ca-f76b-4b7b-ad79-af91eac46807"
   },
   "outputs": [
    {
     "data": {
      "image/png": "[encoded data removed]",
      "text/plain": [
       "<Figure size 432x288 with 1 Axes>"
      ]
     },
     "metadata": {
      "needs_background": "light"
     },
     "output_type": "display_data"
    }
   ],
   "source": [
    "df3=df_low.tolist()\n",
    "df3.extend(lst_output)\n",
    "plt.plot(df3[2000:])\n",
    "plt.show()"
   ]
  },
  {
   "cell_type": "code",
   "execution_count": null,
   "id": "j9vrfsNG0FIa",
   "metadata": {
    "id": "j9vrfsNG0FIa"
   },
   "outputs": [],
   "source": [
    "df3=scaler.inverse_transform(df3).tolist()"
   ]
  },
  {
   "cell_type": "code",
   "execution_count": null,
   "id": "URLzrFkr0Oqq",
   "metadata": {
    "colab": {
     "base_uri": "https://localhost:8080/",
     "height": 265
    },
    "id": "URLzrFkr0Oqq",
    "outputId": "0160b916-dd96-4c7b-de20-c4b77a44bcff"
   },
   "outputs": [
    {
     "data": {
      "image/png": "[encoded data removed]",
      "text/plain": [
       "<Figure size 432x288 with 1 Axes>"
      ]
     },
     "metadata": {
      "needs_background": "light"
     },
     "output_type": "display_data"
    }
   ],
   "source": [
    "plt.plot(df3)\n",
    "plt.show()"
   ]
  },
  {
   "cell_type": "markdown",
   "id": "34487dfe",
   "metadata": {
    "id": "34487dfe"
   },
   "source": [
    "# Thank You!"
   ]
  },
  {
   "cell_type": "code",
   "execution_count": null,
   "id": "4fdffdc4",
   "metadata": {
    "id": "4fdffdc4"
   },
   "outputs": [],
   "source": []
  }
 ],
 "metadata": {
  "colab": {
   "collapsed_sections": [],
   "name": "Stock_Market_Prediction_and_forecasting_using_Stacked_LSTM.ipynb",
   "provenance": []
  },
  "kernelspec": {
   "display_name": "Python 3 (ipykernel)",
   "language": "python",
   "name": "python3"
  },
  "language_info": {
   "codemirror_mode": {
    "name": "ipython",
    "version": 3
   },
   "file_extension": ".py",
   "mimetype": "text/x-python",
   "name": "python",
   "nbconvert_exporter": "python",
   "pygments_lexer": "ipython3",
   "version": "3.9.7"
  }
 },
 "nbformat": 4,
 "nbformat_minor": 5
}
